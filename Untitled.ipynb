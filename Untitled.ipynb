{
 "cells": [
  {
   "cell_type": "code",
   "execution_count": 1,
   "metadata": {},
   "outputs": [],
   "source": [
    "import pandas as pd\n",
    "import numpy as np"
   ]
  },
  {
   "cell_type": "code",
   "execution_count": 2,
   "metadata": {},
   "outputs": [],
   "source": [
    "df = pd.read_csv('pitches.csv')"
   ]
  },
  {
   "cell_type": "code",
   "execution_count": 3,
   "metadata": {},
   "outputs": [],
   "source": [
    "dfC = df.copy()"
   ]
  },
  {
   "cell_type": "code",
   "execution_count": 4,
   "metadata": {},
   "outputs": [
    {
     "data": {
      "text/html": [
       "<div>\n",
       "<style scoped>\n",
       "    .dataframe tbody tr th:only-of-type {\n",
       "        vertical-align: middle;\n",
       "    }\n",
       "\n",
       "    .dataframe tbody tr th {\n",
       "        vertical-align: top;\n",
       "    }\n",
       "\n",
       "    .dataframe thead th {\n",
       "        text-align: right;\n",
       "    }\n",
       "</style>\n",
       "<table border=\"1\" class=\"dataframe\">\n",
       "  <thead>\n",
       "    <tr style=\"text-align: right;\">\n",
       "      <th></th>\n",
       "      <th>0</th>\n",
       "      <th>1</th>\n",
       "      <th>2</th>\n",
       "      <th>3</th>\n",
       "      <th>4</th>\n",
       "    </tr>\n",
       "  </thead>\n",
       "  <tbody>\n",
       "    <tr>\n",
       "      <th>px</th>\n",
       "      <td>0.416</td>\n",
       "      <td>-0.191</td>\n",
       "      <td>-0.518</td>\n",
       "      <td>-0.641</td>\n",
       "      <td>-1.821</td>\n",
       "    </tr>\n",
       "    <tr>\n",
       "      <th>pz</th>\n",
       "      <td>2.963</td>\n",
       "      <td>2.347</td>\n",
       "      <td>3.284</td>\n",
       "      <td>1.221</td>\n",
       "      <td>2.083</td>\n",
       "    </tr>\n",
       "    <tr>\n",
       "      <th>start_speed</th>\n",
       "      <td>92.9</td>\n",
       "      <td>92.8</td>\n",
       "      <td>94.1</td>\n",
       "      <td>91</td>\n",
       "      <td>75.4</td>\n",
       "    </tr>\n",
       "    <tr>\n",
       "      <th>end_speed</th>\n",
       "      <td>84.1</td>\n",
       "      <td>84.1</td>\n",
       "      <td>85.2</td>\n",
       "      <td>84</td>\n",
       "      <td>69.6</td>\n",
       "    </tr>\n",
       "    <tr>\n",
       "      <th>spin_rate</th>\n",
       "      <td>2305.05</td>\n",
       "      <td>2689.93</td>\n",
       "      <td>2647.97</td>\n",
       "      <td>1289.59</td>\n",
       "      <td>1374.57</td>\n",
       "    </tr>\n",
       "    <tr>\n",
       "      <th>spin_dir</th>\n",
       "      <td>159.235</td>\n",
       "      <td>151.402</td>\n",
       "      <td>145.125</td>\n",
       "      <td>169.751</td>\n",
       "      <td>280.671</td>\n",
       "    </tr>\n",
       "    <tr>\n",
       "      <th>break_angle</th>\n",
       "      <td>-25</td>\n",
       "      <td>-40.7</td>\n",
       "      <td>-43.7</td>\n",
       "      <td>-1.3</td>\n",
       "      <td>18.4</td>\n",
       "    </tr>\n",
       "    <tr>\n",
       "      <th>break_length</th>\n",
       "      <td>3.2</td>\n",
       "      <td>3.4</td>\n",
       "      <td>3.7</td>\n",
       "      <td>5</td>\n",
       "      <td>12</td>\n",
       "    </tr>\n",
       "    <tr>\n",
       "      <th>break_y</th>\n",
       "      <td>23.7</td>\n",
       "      <td>23.7</td>\n",
       "      <td>23.7</td>\n",
       "      <td>23.8</td>\n",
       "      <td>23.8</td>\n",
       "    </tr>\n",
       "    <tr>\n",
       "      <th>ax</th>\n",
       "      <td>7.665</td>\n",
       "      <td>12.043</td>\n",
       "      <td>14.368</td>\n",
       "      <td>2.104</td>\n",
       "      <td>-10.28</td>\n",
       "    </tr>\n",
       "    <tr>\n",
       "      <th>ay</th>\n",
       "      <td>34.685</td>\n",
       "      <td>34.225</td>\n",
       "      <td>35.276</td>\n",
       "      <td>28.354</td>\n",
       "      <td>21.774</td>\n",
       "    </tr>\n",
       "    <tr>\n",
       "      <th>az</th>\n",
       "      <td>-11.96</td>\n",
       "      <td>-10.085</td>\n",
       "      <td>-11.56</td>\n",
       "      <td>-20.54</td>\n",
       "      <td>-34.111</td>\n",
       "    </tr>\n",
       "    <tr>\n",
       "      <th>sz_bot</th>\n",
       "      <td>1.72</td>\n",
       "      <td>1.72</td>\n",
       "      <td>1.72</td>\n",
       "      <td>1.74</td>\n",
       "      <td>1.72</td>\n",
       "    </tr>\n",
       "    <tr>\n",
       "      <th>sz_top</th>\n",
       "      <td>3.56</td>\n",
       "      <td>3.56</td>\n",
       "      <td>3.56</td>\n",
       "      <td>3.35</td>\n",
       "      <td>3.56</td>\n",
       "    </tr>\n",
       "    <tr>\n",
       "      <th>type_confidence</th>\n",
       "      <td>2</td>\n",
       "      <td>2</td>\n",
       "      <td>2</td>\n",
       "      <td>2</td>\n",
       "      <td>2</td>\n",
       "    </tr>\n",
       "    <tr>\n",
       "      <th>vx0</th>\n",
       "      <td>-6.409</td>\n",
       "      <td>-8.411</td>\n",
       "      <td>-9.802</td>\n",
       "      <td>-8.071</td>\n",
       "      <td>-6.309</td>\n",
       "    </tr>\n",
       "    <tr>\n",
       "      <th>vy0</th>\n",
       "      <td>-136.065</td>\n",
       "      <td>-135.69</td>\n",
       "      <td>-137.668</td>\n",
       "      <td>-133.005</td>\n",
       "      <td>-110.409</td>\n",
       "    </tr>\n",
       "    <tr>\n",
       "      <th>vz0</th>\n",
       "      <td>-3.995</td>\n",
       "      <td>-5.98</td>\n",
       "      <td>-3.337</td>\n",
       "      <td>-6.567</td>\n",
       "      <td>0.325</td>\n",
       "    </tr>\n",
       "    <tr>\n",
       "      <th>x</th>\n",
       "      <td>101.14</td>\n",
       "      <td>124.28</td>\n",
       "      <td>136.74</td>\n",
       "      <td>109.686</td>\n",
       "      <td>146.528</td>\n",
       "    </tr>\n",
       "    <tr>\n",
       "      <th>x0</th>\n",
       "      <td>2.28</td>\n",
       "      <td>2.119</td>\n",
       "      <td>2.127</td>\n",
       "      <td>2.279</td>\n",
       "      <td>2.179</td>\n",
       "    </tr>\n",
       "    <tr>\n",
       "      <th>y</th>\n",
       "      <td>158.78</td>\n",
       "      <td>175.41</td>\n",
       "      <td>150.11</td>\n",
       "      <td>187.463</td>\n",
       "      <td>177.243</td>\n",
       "    </tr>\n",
       "    <tr>\n",
       "      <th>y0</th>\n",
       "      <td>50</td>\n",
       "      <td>50</td>\n",
       "      <td>50</td>\n",
       "      <td>50</td>\n",
       "      <td>50</td>\n",
       "    </tr>\n",
       "    <tr>\n",
       "      <th>z0</th>\n",
       "      <td>5.302</td>\n",
       "      <td>5.307</td>\n",
       "      <td>5.313</td>\n",
       "      <td>5.21</td>\n",
       "      <td>5.557</td>\n",
       "    </tr>\n",
       "    <tr>\n",
       "      <th>pfx_x</th>\n",
       "      <td>4.16</td>\n",
       "      <td>6.57</td>\n",
       "      <td>7.61</td>\n",
       "      <td>1.17</td>\n",
       "      <td>-8.43</td>\n",
       "    </tr>\n",
       "    <tr>\n",
       "      <th>pfx_z</th>\n",
       "      <td>10.93</td>\n",
       "      <td>12</td>\n",
       "      <td>10.88</td>\n",
       "      <td>6.45</td>\n",
       "      <td>-1.65</td>\n",
       "    </tr>\n",
       "    <tr>\n",
       "      <th>nasty</th>\n",
       "      <td>55</td>\n",
       "      <td>31</td>\n",
       "      <td>49</td>\n",
       "      <td>41</td>\n",
       "      <td>18</td>\n",
       "    </tr>\n",
       "    <tr>\n",
       "      <th>zone</th>\n",
       "      <td>3</td>\n",
       "      <td>5</td>\n",
       "      <td>1</td>\n",
       "      <td>13</td>\n",
       "      <td>13</td>\n",
       "    </tr>\n",
       "    <tr>\n",
       "      <th>code</th>\n",
       "      <td>C</td>\n",
       "      <td>S</td>\n",
       "      <td>F</td>\n",
       "      <td>B</td>\n",
       "      <td>B</td>\n",
       "    </tr>\n",
       "    <tr>\n",
       "      <th>type</th>\n",
       "      <td>S</td>\n",
       "      <td>S</td>\n",
       "      <td>S</td>\n",
       "      <td>B</td>\n",
       "      <td>B</td>\n",
       "    </tr>\n",
       "    <tr>\n",
       "      <th>pitch_type</th>\n",
       "      <td>FF</td>\n",
       "      <td>FF</td>\n",
       "      <td>FF</td>\n",
       "      <td>FF</td>\n",
       "      <td>CU</td>\n",
       "    </tr>\n",
       "    <tr>\n",
       "      <th>event_num</th>\n",
       "      <td>3</td>\n",
       "      <td>4</td>\n",
       "      <td>5</td>\n",
       "      <td>6</td>\n",
       "      <td>7</td>\n",
       "    </tr>\n",
       "    <tr>\n",
       "      <th>b_score</th>\n",
       "      <td>0</td>\n",
       "      <td>0</td>\n",
       "      <td>0</td>\n",
       "      <td>0</td>\n",
       "      <td>0</td>\n",
       "    </tr>\n",
       "    <tr>\n",
       "      <th>ab_id</th>\n",
       "      <td>2.015e+09</td>\n",
       "      <td>2.015e+09</td>\n",
       "      <td>2.015e+09</td>\n",
       "      <td>2.015e+09</td>\n",
       "      <td>2.015e+09</td>\n",
       "    </tr>\n",
       "    <tr>\n",
       "      <th>b_count</th>\n",
       "      <td>0</td>\n",
       "      <td>0</td>\n",
       "      <td>0</td>\n",
       "      <td>0</td>\n",
       "      <td>1</td>\n",
       "    </tr>\n",
       "    <tr>\n",
       "      <th>s_count</th>\n",
       "      <td>0</td>\n",
       "      <td>1</td>\n",
       "      <td>2</td>\n",
       "      <td>2</td>\n",
       "      <td>2</td>\n",
       "    </tr>\n",
       "    <tr>\n",
       "      <th>outs</th>\n",
       "      <td>0</td>\n",
       "      <td>0</td>\n",
       "      <td>0</td>\n",
       "      <td>0</td>\n",
       "      <td>0</td>\n",
       "    </tr>\n",
       "    <tr>\n",
       "      <th>pitch_num</th>\n",
       "      <td>1</td>\n",
       "      <td>2</td>\n",
       "      <td>3</td>\n",
       "      <td>4</td>\n",
       "      <td>5</td>\n",
       "    </tr>\n",
       "    <tr>\n",
       "      <th>on_1b</th>\n",
       "      <td>0</td>\n",
       "      <td>0</td>\n",
       "      <td>0</td>\n",
       "      <td>0</td>\n",
       "      <td>0</td>\n",
       "    </tr>\n",
       "    <tr>\n",
       "      <th>on_2b</th>\n",
       "      <td>0</td>\n",
       "      <td>0</td>\n",
       "      <td>0</td>\n",
       "      <td>0</td>\n",
       "      <td>0</td>\n",
       "    </tr>\n",
       "    <tr>\n",
       "      <th>on_3b</th>\n",
       "      <td>0</td>\n",
       "      <td>0</td>\n",
       "      <td>0</td>\n",
       "      <td>0</td>\n",
       "      <td>0</td>\n",
       "    </tr>\n",
       "  </tbody>\n",
       "</table>\n",
       "</div>"
      ],
      "text/plain": [
       "                         0          1          2          3          4\n",
       "px                   0.416     -0.191     -0.518     -0.641     -1.821\n",
       "pz                   2.963      2.347      3.284      1.221      2.083\n",
       "start_speed           92.9       92.8       94.1         91       75.4\n",
       "end_speed             84.1       84.1       85.2         84       69.6\n",
       "spin_rate          2305.05    2689.93    2647.97    1289.59    1374.57\n",
       "spin_dir           159.235    151.402    145.125    169.751    280.671\n",
       "break_angle            -25      -40.7      -43.7       -1.3       18.4\n",
       "break_length           3.2        3.4        3.7          5         12\n",
       "break_y               23.7       23.7       23.7       23.8       23.8\n",
       "ax                   7.665     12.043     14.368      2.104     -10.28\n",
       "ay                  34.685     34.225     35.276     28.354     21.774\n",
       "az                  -11.96    -10.085     -11.56     -20.54    -34.111\n",
       "sz_bot                1.72       1.72       1.72       1.74       1.72\n",
       "sz_top                3.56       3.56       3.56       3.35       3.56\n",
       "type_confidence          2          2          2          2          2\n",
       "vx0                 -6.409     -8.411     -9.802     -8.071     -6.309\n",
       "vy0               -136.065    -135.69   -137.668   -133.005   -110.409\n",
       "vz0                 -3.995      -5.98     -3.337     -6.567      0.325\n",
       "x                   101.14     124.28     136.74    109.686    146.528\n",
       "x0                    2.28      2.119      2.127      2.279      2.179\n",
       "y                   158.78     175.41     150.11    187.463    177.243\n",
       "y0                      50         50         50         50         50\n",
       "z0                   5.302      5.307      5.313       5.21      5.557\n",
       "pfx_x                 4.16       6.57       7.61       1.17      -8.43\n",
       "pfx_z                10.93         12      10.88       6.45      -1.65\n",
       "nasty                   55         31         49         41         18\n",
       "zone                     3          5          1         13         13\n",
       "code                     C          S          F          B          B\n",
       "type                     S          S          S          B          B\n",
       "pitch_type              FF         FF         FF         FF         CU\n",
       "event_num                3          4          5          6          7\n",
       "b_score                  0          0          0          0          0\n",
       "ab_id            2.015e+09  2.015e+09  2.015e+09  2.015e+09  2.015e+09\n",
       "b_count                  0          0          0          0          1\n",
       "s_count                  0          1          2          2          2\n",
       "outs                     0          0          0          0          0\n",
       "pitch_num                1          2          3          4          5\n",
       "on_1b                    0          0          0          0          0\n",
       "on_2b                    0          0          0          0          0\n",
       "on_3b                    0          0          0          0          0"
      ]
     },
     "execution_count": 4,
     "metadata": {},
     "output_type": "execute_result"
    }
   ],
   "source": [
    "dfC.head().T"
   ]
  },
  {
   "cell_type": "code",
   "execution_count": 5,
   "metadata": {},
   "outputs": [
    {
     "data": {
      "text/plain": [
       "array(['FF', 'CU', 'FC', 'SI', 'CH', 'FT', 'IN', 'SL', nan, 'KC', 'EP',\n",
       "       'FS', 'FO', 'PO', 'KN', 'UN', 'SC', 'FA', 'AB'], dtype=object)"
      ]
     },
     "execution_count": 5,
     "metadata": {},
     "output_type": "execute_result"
    }
   ],
   "source": [
    "dfC.pitch_type.unique()"
   ]
  },
  {
   "cell_type": "code",
   "execution_count": 6,
   "metadata": {},
   "outputs": [
    {
     "data": {
      "text/html": [
       "<div>\n",
       "<style scoped>\n",
       "    .dataframe tbody tr th:only-of-type {\n",
       "        vertical-align: middle;\n",
       "    }\n",
       "\n",
       "    .dataframe tbody tr th {\n",
       "        vertical-align: top;\n",
       "    }\n",
       "\n",
       "    .dataframe thead th {\n",
       "        text-align: right;\n",
       "    }\n",
       "</style>\n",
       "<table border=\"1\" class=\"dataframe\">\n",
       "  <thead>\n",
       "    <tr style=\"text-align: right;\">\n",
       "      <th></th>\n",
       "      <th>break_length</th>\n",
       "      <th>spin_rate</th>\n",
       "      <th>spin_dir</th>\n",
       "    </tr>\n",
       "    <tr>\n",
       "      <th>pitch_type</th>\n",
       "      <th></th>\n",
       "      <th></th>\n",
       "      <th></th>\n",
       "    </tr>\n",
       "  </thead>\n",
       "  <tbody>\n",
       "    <tr>\n",
       "      <th>CU</th>\n",
       "      <td>12.194557</td>\n",
       "      <td>1253.890184</td>\n",
       "      <td>122.466435</td>\n",
       "    </tr>\n",
       "    <tr>\n",
       "      <th>FF</th>\n",
       "      <td>4.022105</td>\n",
       "      <td>2146.662011</td>\n",
       "      <td>191.732831</td>\n",
       "    </tr>\n",
       "  </tbody>\n",
       "</table>\n",
       "</div>"
      ],
      "text/plain": [
       "            break_length    spin_rate    spin_dir\n",
       "pitch_type                                       \n",
       "CU             12.194557  1253.890184  122.466435\n",
       "FF              4.022105  2146.662011  191.732831"
      ]
     },
     "execution_count": 6,
     "metadata": {},
     "output_type": "execute_result"
    }
   ],
   "source": [
    "x = dfC.loc[(dfC.code.isin(['S','X','D','E'])) & (dfC.pitch_type.isin(['FF','CU']))]\n",
    "x.groupby('pitch_type').mean()[['break_length', 'spin_rate', 'spin_dir']]"
   ]
  },
  {
   "cell_type": "code",
   "execution_count": 7,
   "metadata": {},
   "outputs": [
    {
     "data": {
      "text/plain": [
       "2063015    224889.3\n",
       "868120         55.9\n",
       "771971         54.6\n",
       "326703         42.0\n",
       "84629          38.7\n",
       "Name: break_length, dtype: float64"
      ]
     },
     "execution_count": 7,
     "metadata": {},
     "output_type": "execute_result"
    }
   ],
   "source": [
    "dfC.break_length.sort_values(ascending = False).head(5)"
   ]
  },
  {
   "cell_type": "code",
   "execution_count": 8,
   "metadata": {},
   "outputs": [
    {
     "data": {
      "text/plain": [
       "2017165333.0"
      ]
     },
     "execution_count": 8,
     "metadata": {},
     "output_type": "execute_result"
    }
   ],
   "source": [
    "dfC.iloc[2063015,].ab_id"
   ]
  },
  {
   "cell_type": "code",
   "execution_count": 9,
   "metadata": {},
   "outputs": [],
   "source": [
    "ab = pd.read_csv('../../eda_vis/mlb_vis/data/pitch/atbats.csv')"
   ]
  },
  {
   "cell_type": "code",
   "execution_count": 10,
   "metadata": {},
   "outputs": [
    {
     "data": {
      "text/html": [
       "<div>\n",
       "<style scoped>\n",
       "    .dataframe tbody tr th:only-of-type {\n",
       "        vertical-align: middle;\n",
       "    }\n",
       "\n",
       "    .dataframe tbody tr th {\n",
       "        vertical-align: top;\n",
       "    }\n",
       "\n",
       "    .dataframe thead th {\n",
       "        text-align: right;\n",
       "    }\n",
       "</style>\n",
       "<table border=\"1\" class=\"dataframe\">\n",
       "  <thead>\n",
       "    <tr style=\"text-align: right;\">\n",
       "      <th></th>\n",
       "      <th>ab_id</th>\n",
       "      <th>batter_id</th>\n",
       "      <th>event</th>\n",
       "      <th>g_id</th>\n",
       "      <th>inning</th>\n",
       "      <th>o</th>\n",
       "      <th>p_score</th>\n",
       "      <th>p_throws</th>\n",
       "      <th>pitcher_id</th>\n",
       "      <th>stand</th>\n",
       "      <th>top</th>\n",
       "    </tr>\n",
       "  </thead>\n",
       "  <tbody>\n",
       "    <tr>\n",
       "      <th>534455</th>\n",
       "      <td>2017165333</td>\n",
       "      <td>405395</td>\n",
       "      <td>Groundout</td>\n",
       "      <td>201702160</td>\n",
       "      <td>4</td>\n",
       "      <td>3</td>\n",
       "      <td>1</td>\n",
       "      <td>R</td>\n",
       "      <td>434378</td>\n",
       "      <td>R</td>\n",
       "      <td>False</td>\n",
       "    </tr>\n",
       "  </tbody>\n",
       "</table>\n",
       "</div>"
      ],
      "text/plain": [
       "             ab_id  batter_id      event       g_id  inning  o  p_score  \\\n",
       "534455  2017165333     405395  Groundout  201702160       4  3        1   \n",
       "\n",
       "       p_throws  pitcher_id stand    top  \n",
       "534455        R      434378     R  False  "
      ]
     },
     "execution_count": 10,
     "metadata": {},
     "output_type": "execute_result"
    }
   ],
   "source": [
    "ab.loc[ab.ab_id == 2017165333]"
   ]
  },
  {
   "cell_type": "code",
   "execution_count": 11,
   "metadata": {},
   "outputs": [],
   "source": [
    "player = pd.read_csv('../../eda_vis/mlb_vis/data/pitch/player_names.csv')"
   ]
  },
  {
   "cell_type": "code",
   "execution_count": 12,
   "metadata": {},
   "outputs": [
    {
     "data": {
      "text/html": [
       "<div>\n",
       "<style scoped>\n",
       "    .dataframe tbody tr th:only-of-type {\n",
       "        vertical-align: middle;\n",
       "    }\n",
       "\n",
       "    .dataframe tbody tr th {\n",
       "        vertical-align: top;\n",
       "    }\n",
       "\n",
       "    .dataframe thead th {\n",
       "        text-align: right;\n",
       "    }\n",
       "</style>\n",
       "<table border=\"1\" class=\"dataframe\">\n",
       "  <thead>\n",
       "    <tr style=\"text-align: right;\">\n",
       "      <th></th>\n",
       "      <th>id</th>\n",
       "      <th>first_name</th>\n",
       "      <th>last_name</th>\n",
       "    </tr>\n",
       "  </thead>\n",
       "  <tbody>\n",
       "    <tr>\n",
       "      <th>1351</th>\n",
       "      <td>405395</td>\n",
       "      <td>Albert</td>\n",
       "      <td>Pujols</td>\n",
       "    </tr>\n",
       "  </tbody>\n",
       "</table>\n",
       "</div>"
      ],
      "text/plain": [
       "          id first_name last_name\n",
       "1351  405395     Albert    Pujols"
      ]
     },
     "execution_count": 12,
     "metadata": {},
     "output_type": "execute_result"
    }
   ],
   "source": [
    "player.loc[player.id == 405395]"
   ]
  },
  {
   "cell_type": "code",
   "execution_count": 13,
   "metadata": {},
   "outputs": [
    {
     "data": {
      "text/html": [
       "<div>\n",
       "<style scoped>\n",
       "    .dataframe tbody tr th:only-of-type {\n",
       "        vertical-align: middle;\n",
       "    }\n",
       "\n",
       "    .dataframe tbody tr th {\n",
       "        vertical-align: top;\n",
       "    }\n",
       "\n",
       "    .dataframe thead th {\n",
       "        text-align: right;\n",
       "    }\n",
       "</style>\n",
       "<table border=\"1\" class=\"dataframe\">\n",
       "  <thead>\n",
       "    <tr style=\"text-align: right;\">\n",
       "      <th></th>\n",
       "      <th>id</th>\n",
       "      <th>first_name</th>\n",
       "      <th>last_name</th>\n",
       "    </tr>\n",
       "  </thead>\n",
       "  <tbody>\n",
       "    <tr>\n",
       "      <th>563</th>\n",
       "      <td>434378</td>\n",
       "      <td>Justin</td>\n",
       "      <td>Verlander</td>\n",
       "    </tr>\n",
       "  </tbody>\n",
       "</table>\n",
       "</div>"
      ],
      "text/plain": [
       "         id first_name  last_name\n",
       "563  434378     Justin  Verlander"
      ]
     },
     "execution_count": 13,
     "metadata": {},
     "output_type": "execute_result"
    }
   ],
   "source": [
    "player.loc[player.id == 434378]"
   ]
  },
  {
   "cell_type": "markdown",
   "metadata": {},
   "source": [
    "# START OF REGRESSION"
   ]
  },
  {
   "cell_type": "code",
   "execution_count": 14,
   "metadata": {},
   "outputs": [],
   "source": [
    "from sklearn.feature_selection import RFE\n",
    "from sklearn.linear_model import LogisticRegression"
   ]
  },
  {
   "cell_type": "code",
   "execution_count": 15,
   "metadata": {},
   "outputs": [],
   "source": [
    "import statsmodels.api as sm\n",
    "import statsmodels.formula.api as smf"
   ]
  },
  {
   "cell_type": "code",
   "execution_count": 16,
   "metadata": {},
   "outputs": [],
   "source": [
    "atbats = ab[['ab_id', 'stand']]\n",
    "dfC = pd.merge(dfC, atbats, on = 'ab_id', how = 'left')"
   ]
  },
  {
   "cell_type": "code",
   "execution_count": 17,
   "metadata": {},
   "outputs": [],
   "source": [
    "dfC = dfC.drop(dfC.index[2063015]) # drop verlander insane pitch to pujols "
   ]
  },
  {
   "cell_type": "code",
   "execution_count": 18,
   "metadata": {},
   "outputs": [],
   "source": [
    "dfC = dfC.loc[(dfC.code.isin(['X', 'D', 'E', 'S'])) & (dfC.pitch_type.isin(['FT', 'FF'])) & (dfC.stand == 'R')]\n",
    "dfC.loc[dfC.code.isin(['X', 'D', 'E']), 'in_play_boolean'] = int(1)\n",
    "dfC.loc[dfC.code.isin(['S']), 'in_play_boolean'] = int(0)\n",
    "dfC.loc[dfC.pitch_type == 'FF', 'four_seam_boolean'] = 1\n",
    "dfC.loc[dfC.pitch_type == 'FT', 'four_seam_boolean'] = 0\n",
    "dfC['constant'] = 1\n",
    "model_df = dfC[['constant','px', 'pz', 'start_speed', 'spin_rate', 'spin_dir',\n",
    "       'break_angle', 'break_length', 'break_y', 'four_seam_boolean','in_play_boolean']] #dropped end_speed"
   ]
  },
  {
   "cell_type": "code",
   "execution_count": 19,
   "metadata": {},
   "outputs": [],
   "source": [
    "formula = 'in_play_boolean ~ px + pz + start_speed + spin_rate + spin_dir + break_angle + break_length + break_y + four_seam_boolean'"
   ]
  },
  {
   "cell_type": "code",
   "execution_count": 20,
   "metadata": {},
   "outputs": [
    {
     "name": "stdout",
     "output_type": "stream",
     "text": [
      "                 Generalized Linear Model Regression Results                  \n",
      "==============================================================================\n",
      "Dep. Variable:        in_play_boolean   No. Observations:               201076\n",
      "Model:                            GLM   Df Residuals:                   201066\n",
      "Model Family:                Binomial   Df Model:                            9\n",
      "Link Function:                  logit   Scale:                          1.0000\n",
      "Method:                          IRLS   Log-Likelihood:            -1.1174e+05\n",
      "Date:                Sun, 06 Oct 2019   Deviance:                   2.2348e+05\n",
      "Time:                        18:04:06   Pearson chi2:                 2.25e+05\n",
      "No. Iterations:                     5                                         \n",
      "Covariance Type:            nonrobust                                         \n",
      "=====================================================================================\n",
      "                        coef    std err          z      P>|z|      [0.025      0.975]\n",
      "-------------------------------------------------------------------------------------\n",
      "Intercept            -0.7694      2.336     -0.329      0.742      -5.348       3.810\n",
      "px                   -0.3953      0.009    -43.162      0.000      -0.413      -0.377\n",
      "pz                   -0.8768      0.009    -97.392      0.000      -0.894      -0.859\n",
      "start_speed          -0.0777      0.002    -36.529      0.000      -0.082      -0.074\n",
      "spin_rate            -0.0001   1.49e-05     -7.678      0.000      -0.000    -8.5e-05\n",
      "spin_dir             -0.0066      0.000    -17.301      0.000      -0.007      -0.006\n",
      "break_angle           0.0098      0.000     21.509      0.000       0.009       0.011\n",
      "break_length          0.1269      0.006     20.149      0.000       0.115       0.139\n",
      "break_y               0.5104      0.097      5.259      0.000       0.320       0.701\n",
      "four_seam_boolean    -0.0905      0.017     -5.416      0.000      -0.123      -0.058\n",
      "=====================================================================================\n"
     ]
    }
   ],
   "source": [
    "model = smf.glm(formula = formula, data=model_df, family=sm.families.Binomial())\n",
    "result = model.fit()\n",
    "print(result.summary())"
   ]
  },
  {
   "cell_type": "code",
   "execution_count": 21,
   "metadata": {},
   "outputs": [],
   "source": [
    "train = model_df.sample(frac=0.8,random_state=1) #random state is a seed value\n",
    "test = model_df.drop(train.index)"
   ]
  },
  {
   "cell_type": "code",
   "execution_count": 22,
   "metadata": {},
   "outputs": [
    {
     "name": "stdout",
     "output_type": "stream",
     "text": [
      "                 Generalized Linear Model Regression Results                  \n",
      "==============================================================================\n",
      "Dep. Variable:        in_play_boolean   No. Observations:               160861\n",
      "Model:                            GLM   Df Residuals:                   160851\n",
      "Model Family:                Binomial   Df Model:                            9\n",
      "Link Function:                  logit   Scale:                          1.0000\n",
      "Method:                          IRLS   Log-Likelihood:                -89447.\n",
      "Date:                Sun, 06 Oct 2019   Deviance:                   1.7889e+05\n",
      "Time:                        18:04:07   Pearson chi2:                 1.80e+05\n",
      "No. Iterations:                     5                                         \n",
      "Covariance Type:            nonrobust                                         \n",
      "=====================================================================================\n",
      "                        coef    std err          z      P>|z|      [0.025      0.975]\n",
      "-------------------------------------------------------------------------------------\n",
      "Intercept            -0.4185      2.608     -0.160      0.873      -5.531       4.694\n",
      "px                   -0.3900      0.010    -38.160      0.000      -0.410      -0.370\n",
      "pz                   -0.8740      0.010    -87.027      0.000      -0.894      -0.854\n",
      "start_speed          -0.0794      0.002    -33.357      0.000      -0.084      -0.075\n",
      "spin_rate            -0.0001   1.66e-05     -6.669      0.000      -0.000   -7.82e-05\n",
      "spin_dir             -0.0065      0.000    -15.282      0.000      -0.007      -0.006\n",
      "break_angle           0.0096      0.001     18.905      0.000       0.009       0.011\n",
      "break_length          0.1224      0.007     17.416      0.000       0.109       0.136\n",
      "break_y               0.5015      0.108      4.629      0.000       0.289       0.714\n",
      "four_seam_boolean    -0.0954      0.019     -5.117      0.000      -0.132      -0.059\n",
      "=====================================================================================\n"
     ]
    }
   ],
   "source": [
    "model = smf.glm(formula = formula, data=train, family=sm.families.Binomial())\n",
    "result = model.fit()\n",
    "print(result.summary())"
   ]
  },
  {
   "cell_type": "code",
   "execution_count": 23,
   "metadata": {},
   "outputs": [],
   "source": [
    "predictions = result.predict(test)"
   ]
  },
  {
   "cell_type": "code",
   "execution_count": 24,
   "metadata": {},
   "outputs": [
    {
     "data": {
      "text/plain": [
       "0.7414397612831033"
      ]
     },
     "execution_count": 24,
     "metadata": {},
     "output_type": "execute_result"
    }
   ],
   "source": [
    "pred = np.where(predictions >= 0.5, 1, 0) # predictions\n",
    "actual = test['in_play_boolean']\n",
    "1 - np.mean(np.abs(pred-actual)) # np.abs(pred-actual) will be 1 if they differ"
   ]
  },
  {
   "cell_type": "code",
   "execution_count": null,
   "metadata": {},
   "outputs": [],
   "source": []
  },
  {
   "cell_type": "code",
   "execution_count": null,
   "metadata": {},
   "outputs": [],
   "source": []
  },
  {
   "cell_type": "code",
   "execution_count": null,
   "metadata": {},
   "outputs": [],
   "source": []
  },
  {
   "cell_type": "code",
   "execution_count": null,
   "metadata": {},
   "outputs": [],
   "source": []
  },
  {
   "cell_type": "code",
   "execution_count": 25,
   "metadata": {},
   "outputs": [],
   "source": [
    "x_data = model_df.drop('in_play_boolean', axis = 1)\n",
    "y_data = model_df.in_play_boolean"
   ]
  },
  {
   "cell_type": "code",
   "execution_count": 26,
   "metadata": {},
   "outputs": [
    {
     "name": "stderr",
     "output_type": "stream",
     "text": [
      "/Users/alanflint/anaconda3/lib/python3.7/site-packages/sklearn/linear_model/logistic.py:432: FutureWarning: Default solver will be changed to 'lbfgs' in 0.22. Specify a solver to silence this warning.\n",
      "  FutureWarning)\n",
      "/Users/alanflint/anaconda3/lib/python3.7/site-packages/sklearn/linear_model/logistic.py:432: FutureWarning: Default solver will be changed to 'lbfgs' in 0.22. Specify a solver to silence this warning.\n",
      "  FutureWarning)\n",
      "/Users/alanflint/anaconda3/lib/python3.7/site-packages/sklearn/linear_model/logistic.py:432: FutureWarning: Default solver will be changed to 'lbfgs' in 0.22. Specify a solver to silence this warning.\n",
      "  FutureWarning)\n",
      "/Users/alanflint/anaconda3/lib/python3.7/site-packages/sklearn/linear_model/logistic.py:432: FutureWarning: Default solver will be changed to 'lbfgs' in 0.22. Specify a solver to silence this warning.\n",
      "  FutureWarning)\n",
      "/Users/alanflint/anaconda3/lib/python3.7/site-packages/sklearn/linear_model/logistic.py:432: FutureWarning: Default solver will be changed to 'lbfgs' in 0.22. Specify a solver to silence this warning.\n",
      "  FutureWarning)\n"
     ]
    },
    {
     "name": "stdout",
     "output_type": "stream",
     "text": [
      "[False  True  True  True False False False  True  True  True]\n",
      "[2 1 1 1 5 4 3 1 1 1]\n"
     ]
    }
   ],
   "source": [
    "logreg = LogisticRegression()\n",
    "\n",
    "rfe = RFE(logreg, 6)\n",
    "rfe = rfe.fit(x_data, y_data)\n",
    "print(rfe.support_)\n",
    "print(rfe.ranking_)"
   ]
  },
  {
   "cell_type": "code",
   "execution_count": 27,
   "metadata": {},
   "outputs": [],
   "source": [
    "cols = ['px','pz', 'start_speed', 'break_length', 'break_y', 'four_seam_boolean']\n",
    "X = x_data[cols]\n",
    "Y = y_data"
   ]
  },
  {
   "cell_type": "code",
   "execution_count": 28,
   "metadata": {},
   "outputs": [
    {
     "name": "stdout",
     "output_type": "stream",
     "text": [
      "Optimization terminated successfully.\n",
      "         Current function value: 0.555711\n",
      "         Iterations 6\n",
      "                          Results: Logit\n",
      "==================================================================\n",
      "Model:              Logit            Pseudo R-squared: 0.080      \n",
      "Dependent Variable: in_play_boolean  AIC:              223500.4364\n",
      "Date:               2019-10-06 18:04 BIC:              223602.5507\n",
      "No. Observations:   201076           Log-Likelihood:   -1.1174e+05\n",
      "Df Model:           9                LL-Null:          -1.2146e+05\n",
      "Df Residuals:       201066           LLR p-value:      0.0000     \n",
      "Converged:          1.0000           Scale:            1.0000     \n",
      "No. Iterations:     6.0000                                        \n",
      "------------------------------------------------------------------\n",
      "                   Coef.  Std.Err.    z     P>|z|   [0.025  0.975]\n",
      "------------------------------------------------------------------\n",
      "constant          -0.7694   2.3363  -0.3293 0.7419 -5.3484  3.8097\n",
      "px                -0.3953   0.0092 -43.1619 0.0000 -0.4133 -0.3774\n",
      "pz                -0.8768   0.0090 -97.3920 0.0000 -0.8944 -0.8591\n",
      "start_speed       -0.0777   0.0021 -36.5287 0.0000 -0.0819 -0.0735\n",
      "spin_rate         -0.0001   0.0000  -7.6785 0.0000 -0.0001 -0.0001\n",
      "spin_dir          -0.0066   0.0004 -17.3005 0.0000 -0.0073 -0.0059\n",
      "break_angle        0.0098   0.0005  21.5093 0.0000  0.0089  0.0107\n",
      "break_length       0.1269   0.0063  20.1495 0.0000  0.1146  0.1392\n",
      "break_y            0.5104   0.0971   5.2586 0.0000  0.3202  0.7006\n",
      "four_seam_boolean -0.0905   0.0167  -5.4161 0.0000 -0.1232 -0.0577\n",
      "==================================================================\n",
      "\n"
     ]
    }
   ],
   "source": [
    "logit_model=sm.Logit(Y,x_data)\n",
    "result=logit_model.fit()\n",
    "print(result.summary2())"
   ]
  },
  {
   "cell_type": "code",
   "execution_count": 29,
   "metadata": {},
   "outputs": [],
   "source": [
    "predictions = np.where(result.predict() >= 0.5, 1, 0)"
   ]
  },
  {
   "cell_type": "code",
   "execution_count": 30,
   "metadata": {},
   "outputs": [
    {
     "data": {
      "text/plain": [
       "0.9086614016590742"
      ]
     },
     "execution_count": 30,
     "metadata": {},
     "output_type": "execute_result"
    }
   ],
   "source": [
    "np.mean(predictions)"
   ]
  },
  {
   "cell_type": "code",
   "execution_count": 31,
   "metadata": {},
   "outputs": [],
   "source": [
    "actual = model_df.in_play_boolean"
   ]
  },
  {
   "cell_type": "code",
   "execution_count": 32,
   "metadata": {},
   "outputs": [
    {
     "data": {
      "text/plain": [
       "0.7410879468459687"
      ]
     },
     "execution_count": 32,
     "metadata": {},
     "output_type": "execute_result"
    }
   ],
   "source": [
    "correct = 1 - np.mean(np.abs(predictions - actual))\n",
    "correct"
   ]
  },
  {
   "cell_type": "code",
   "execution_count": 33,
   "metadata": {},
   "outputs": [
    {
     "data": {
      "text/plain": [
       "0.707886570252044"
      ]
     },
     "execution_count": 33,
     "metadata": {},
     "output_type": "execute_result"
    }
   ],
   "source": [
    "np.mean(actual)"
   ]
  }
 ],
 "metadata": {
  "kernelspec": {
   "display_name": "Python 3",
   "language": "python",
   "name": "python3"
  },
  "language_info": {
   "codemirror_mode": {
    "name": "ipython",
    "version": 3
   },
   "file_extension": ".py",
   "mimetype": "text/x-python",
   "name": "python",
   "nbconvert_exporter": "python",
   "pygments_lexer": "ipython3",
   "version": "3.7.3"
  }
 },
 "nbformat": 4,
 "nbformat_minor": 2
}
