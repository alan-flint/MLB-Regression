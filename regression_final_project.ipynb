{
 "cells": [
  {
   "cell_type": "code",
   "execution_count": 1,
   "metadata": {},
   "outputs": [],
   "source": [
    "import pandas as pd\n",
    "import numpy as np\n",
    "import matplotlib.pyplot as plt \n",
    "\n",
    "import statsmodels.api as sm\n",
    "import statsmodels.formula.api as smf\n",
    "from statsmodels.formula.api import ols\n",
    "import scipy.stats as stats\n",
    "import matplotlib.cm as cm\n",
    "from IPython.display import display\n",
    "from mpl_toolkits.mplot3d import Axes3D\n",
    "from sklearn.feature_selection import f_regression\n",
    "from statsmodels.stats.anova import anova_lm\n",
    "from sklearn.linear_model import LogisticRegression\n",
    "\n",
    "from sklearn.feature_selection import RFE\n",
    "from sklearn.linear_model import LogisticRegression"
   ]
  },
  {
   "cell_type": "code",
   "execution_count": null,
   "metadata": {},
   "outputs": [],
   "source": [
    "#load data\n",
    "\n",
    "pitches_orig = pd.read_csv('pitches.csv')\n",
    "at_bat = pd.read_csv('atbats.csv')"
   ]
  },
  {
   "cell_type": "markdown",
   "metadata": {},
   "source": [
    "prep data for model\n",
    "---"
   ]
  },
  {
   "cell_type": "code",
   "execution_count": null,
   "metadata": {},
   "outputs": [],
   "source": [
    "#right handed at bats\n",
    "at_bat_right_hand = at_bat.loc[at_bat.stand == 'R']\n",
    "#only look at pitches where batter is right handed\n",
    "pitches_orig = pd.merge(pitches_orig, at_bat_right_hand, how = 'inner', right_on = 'ab_id', left_on = 'ab_id')\n",
    "#only look at pithches that were swung at\n",
    "pitches_orig = pitches_orig.loc[(pitches_orig.code.isin(['X', 'D', 'E', 'S'])) & (pitches_orig.pitch_type.isin(['FT', 'FF']))]\n",
    "#binary coding for in play or not after swing\n",
    "pitches_orig.loc[pitches_orig.code.isin(['X', 'D', 'E']), 'in_play_boolean'] = int(1)\n",
    "pitches_orig.loc[pitches_orig.code.isin(['S']), 'in_play_boolean'] = int(0)\n",
    "\n",
    "#create model df with in_play_boolean as response\n",
    "model_df = pitches_orig[['px', 'pz', 'start_speed', 'end_speed', 'spin_rate', 'spin_dir',\n",
    "       'break_angle', 'break_length', 'break_y', 'pitch_type','in_play_boolean']]\n",
    "#dummies\n",
    "pitch_typed = pd.get_dummies(model_df['pitch_type'])\n",
    "model_df = pd.concat([model_df, pitch_typed], axis=1)\n",
    "model_df = model_df.drop(['FT'], axis =1)"
   ]
  },
  {
   "cell_type": "code",
   "execution_count": null,
   "metadata": {},
   "outputs": [],
   "source": [
    "model_list = []\n",
    "\n",
    "for i in range(1,features.shape[1]+1):    \n",
    "    features = model_df[['px', 'pz', 'start_speed', 'end_speed', 'spin_rate', 'spin_dir',\n",
    "       'break_angle', 'break_length', 'break_y', 'FF']]\n",
    "    X = sm.add_constant(features)    \n",
    "    #get features\n",
    "    model = LogisticRegression(solver='lbfgs')\n",
    "    rfe = RFE(model, i)\n",
    "    #get features\n",
    "    fit = rfe.fit(features, model_df['in_play_boolean'])\n",
    "    \n",
    "    X = features[features.columns[fit.support_]]\n",
    "    X = sm.add_constant(X)\n",
    "    X_train, X_test, y_train, y_test = train_test_split(X, model_df['in_play_boolean'], test_size=0.3, random_state=0)\n",
    "    \n",
    "    logreg = LogisticRegression()\n",
    "    logreg.fit(X_train, y_train)\n",
    "    \n",
    "    logit_model = sm.Logit(y_train,X_train)\n",
    "    result = logit_model.fit()\n",
    "    \n",
    "    \n",
    "    model_list.append((result.summary2(), result.aic, result.bic, logreg.score(X_test, y_test)))"
   ]
  },
  {
   "cell_type": "code",
   "execution_count": null,
   "metadata": {},
   "outputs": [],
   "source": [
    "[(x[1],x[2],x[3]) for x in model_list]"
   ]
  },
  {
   "cell_type": "code",
   "execution_count": null,
   "metadata": {},
   "outputs": [],
   "source": [
    "model_list[5]"
   ]
  },
  {
   "cell_type": "code",
   "execution_count": null,
   "metadata": {},
   "outputs": [],
   "source": [
    "#check for multicollinarity\n",
    "import seaborn as sn\n",
    "correlation_matrix = features[['px', 'pz', 'start_speed', 'end_speed', 'break_length', 'break_y']].corr().round(2)\n",
    "# annot = True to print the values inside the square\n",
    "plt.figure(figsize = (16,5))\n",
    "sns.heatmap(data=correlation_matrix, annot=True)"
   ]
  },
  {
   "cell_type": "code",
   "execution_count": null,
   "metadata": {},
   "outputs": [],
   "source": [
    "features = model_df[['px', 'pz', 'start_speed', 'break_length', 'break_y']]\n",
    "X = sm.add_constant(features)\n",
    "\n",
    "X_train, X_test, y_train, y_test = train_test_split(X, model_df['in_play_boolean'], test_size=0.3, random_state=0)\n",
    "\n",
    "logreg = LogisticRegression()\n",
    "logreg.fit(X_train, y_train)\n",
    "    \n",
    "logit_model = sm.Logit(y_train,X_train)\n",
    "result = logit_model.fit()\n",
    "    \n",
    "print(result.summary2()) \n",
    "print(result.aic)\n",
    "print(result.bic)\n",
    "print(logreg.score(X_test, y_test))"
   ]
  },
  {
   "cell_type": "code",
   "execution_count": null,
   "metadata": {},
   "outputs": [],
   "source": []
  },
  {
   "cell_type": "code",
   "execution_count": null,
   "metadata": {},
   "outputs": [],
   "source": []
  },
  {
   "cell_type": "code",
   "execution_count": null,
   "metadata": {},
   "outputs": [],
   "source": []
  },
  {
   "cell_type": "code",
   "execution_count": null,
   "metadata": {},
   "outputs": [],
   "source": []
  }
 ],
 "metadata": {
  "kernelspec": {
   "display_name": "Python 3",
   "language": "python",
   "name": "python3"
  },
  "language_info": {
   "codemirror_mode": {
    "name": "ipython",
    "version": 3
   },
   "file_extension": ".py",
   "mimetype": "text/x-python",
   "name": "python",
   "nbconvert_exporter": "python",
   "pygments_lexer": "ipython3",
   "version": "3.7.3"
  }
 },
 "nbformat": 4,
 "nbformat_minor": 2
}
