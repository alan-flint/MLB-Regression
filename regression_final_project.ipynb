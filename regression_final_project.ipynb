{
 "cells": [
  {
   "cell_type": "code",
   "execution_count": 1,
   "metadata": {},
   "outputs": [],
   "source": [
    "import pandas as pd\n",
    "import numpy as np\n",
    "import matplotlib.pyplot as plt \n",
    "import seaborn as sn\n",
    "\n",
    "import statsmodels.api as sm\n",
    "import statsmodels.formula.api as smf\n",
    "from statsmodels.formula.api import ols\n",
    "import scipy.stats as stats\n",
    "import matplotlib.cm as cm\n",
    "from IPython.display import display\n",
    "from mpl_toolkits.mplot3d import Axes3D\n",
    "from sklearn.feature_selection import f_regression\n",
    "from statsmodels.stats.anova import anova_lm\n",
    "from sklearn.linear_model import LogisticRegression\n",
    "\n",
    "from sklearn.feature_selection import RFE\n",
    "from sklearn.linear_model import LogisticRegression\n",
    "from sklearn import metrics\n",
    "from sklearn.model_selection import train_test_split\n",
    "\n",
    "import warnings\n",
    "warnings.filterwarnings('ignore')"
   ]
  },
  {
   "cell_type": "code",
   "execution_count": 2,
   "metadata": {},
   "outputs": [],
   "source": [
    "#load data\n",
    "\n",
    "pitches_orig = pd.read_csv('pitches.csv')\n",
    "at_bat = pd.read_csv('atbats.csv')"
   ]
  },
  {
   "cell_type": "markdown",
   "metadata": {},
   "source": [
    "prep data for model\n",
    "---"
   ]
  },
  {
   "cell_type": "code",
   "execution_count": 3,
   "metadata": {},
   "outputs": [],
   "source": [
    "#right handed at bats\n",
    "at_bat_right_hand = at_bat.loc[at_bat.stand == 'R']\n",
    "#only look at pitches where batter is right handed\n",
    "pitches_orig = pd.merge(pitches_orig, at_bat_right_hand, how = 'inner', right_on = 'ab_id', left_on = 'ab_id')\n",
    "#only look at pithches that were swung at\n",
    "pitches_orig = pitches_orig.loc[(pitches_orig.code.isin(['X', 'D', 'E', 'S'])) & (pitches_orig.pitch_type.isin(['FT', 'FF']))]\n",
    "#binary coding for in play or not after swing\n",
    "pitches_orig.loc[pitches_orig.code.isin(['X', 'D', 'E']), 'in_play_boolean'] = int(1)\n",
    "pitches_orig.loc[pitches_orig.code.isin(['S']), 'in_play_boolean'] = int(0)\n",
    "\n",
    "#create model df with in_play_boolean as response\n",
    "model_df = pitches_orig[['px', 'pz', 'start_speed', 'end_speed', 'spin_rate', 'spin_dir',\n",
    "       'break_angle', 'break_length', 'break_y', 'pitch_type','in_play_boolean']]\n",
    "#dummies\n",
    "pitch_typed = pd.get_dummies(model_df['pitch_type'])\n",
    "model_df = pd.concat([model_df, pitch_typed], axis=1)\n",
    "model_df = model_df.drop(['FT'], axis =1)"
   ]
  },
  {
   "cell_type": "markdown",
   "metadata": {},
   "source": [
    "EDA\n",
    "---"
   ]
  },
  {
   "cell_type": "code",
   "execution_count": 4,
   "metadata": {},
   "outputs": [
    {
     "name": "stdout",
     "output_type": "stream",
     "text": [
      "142339\n",
      "58737\n",
      "0.707886570252044\n",
      "0.292113429747956\n"
     ]
    }
   ],
   "source": [
    "print(model_df.loc[model_df.in_play_boolean == 1].shape[0])\n",
    "print(model_df.loc[model_df.in_play_boolean == 0].shape[0])\n",
    "print(model_df.loc[model_df.in_play_boolean == 1].shape[0]/model_df.shape[0])\n",
    "print(model_df.loc[model_df.in_play_boolean == 0].shape[0]/model_df.shape[0])"
   ]
  },
  {
   "cell_type": "code",
   "execution_count": 5,
   "metadata": {},
   "outputs": [
    {
     "name": "stdout",
     "output_type": "stream",
     "text": [
      "FF                   0       1\n",
      "in_play_boolean               \n",
      "0.0              10857   47880\n",
      "1.0              41775  100564\n"
     ]
    },
    {
     "data": {
      "text/plain": [
       "(2539.4250437205733, 0.0, 1, array([[ 15374.51403449,  43362.48596551],\n",
       "        [ 37257.48596551, 105081.51403449]]))"
      ]
     },
     "execution_count": 5,
     "metadata": {},
     "output_type": "execute_result"
    }
   ],
   "source": [
    "x = pd.crosstab(model_df.in_play_boolean, model_df.FF)\n",
    "print(x)\n",
    "stats.chi2_contingency(x)"
   ]
  },
  {
   "cell_type": "code",
   "execution_count": null,
   "metadata": {},
   "outputs": [],
   "source": []
  },
  {
   "cell_type": "markdown",
   "metadata": {},
   "source": [
    "fit model \n",
    "---"
   ]
  },
  {
   "cell_type": "code",
   "execution_count": 6,
   "metadata": {},
   "outputs": [
    {
     "name": "stdout",
     "output_type": "stream",
     "text": [
      "Optimization terminated successfully.\n",
      "         Current function value: 0.571260\n",
      "         Iterations 5\n",
      "Optimization terminated successfully.\n",
      "         Current function value: 0.565736\n",
      "         Iterations 6\n",
      "Optimization terminated successfully.\n",
      "         Current function value: 0.565366\n",
      "         Iterations 6\n",
      "Optimization terminated successfully.\n",
      "         Current function value: 0.559067\n",
      "         Iterations 6\n",
      "Optimization terminated successfully.\n",
      "         Current function value: 0.549834\n",
      "         Iterations 6\n",
      "Optimization terminated successfully.\n",
      "         Current function value: 0.547905\n",
      "         Iterations 6\n",
      "Optimization terminated successfully.\n",
      "         Current function value: 0.547870\n",
      "         Iterations 6\n",
      "Optimization terminated successfully.\n",
      "         Current function value: 0.547126\n",
      "         Iterations 6\n",
      "Optimization terminated successfully.\n",
      "         Current function value: 0.545795\n",
      "         Iterations 6\n",
      "Optimization terminated successfully.\n",
      "         Current function value: 0.545618\n",
      "         Iterations 6\n"
     ]
    }
   ],
   "source": [
    "features = model_df[['px', 'pz', 'start_speed', 'end_speed', 'spin_rate', 'spin_dir',\n",
    "       'break_angle', 'break_length', 'break_y', 'FF']]\n",
    "\n",
    "model_list = []\n",
    "#loop to look at best subset for each size and fit a model to it\n",
    "for i in range(1,features.shape[1]+1):    \n",
    "    #possible features for model\n",
    "    X = sm.add_constant(features)    \n",
    "    \n",
    "    #get features using RFE\n",
    "    model = LogisticRegression(solver='lbfgs')\n",
    "    rfe = RFE(model, i)\n",
    "    fit = rfe.fit(features, model_df['in_play_boolean'])\n",
    "    \n",
    "    #only fit model with features from RFE\n",
    "    X = features[features.columns[fit.support_]]\n",
    "    X = sm.add_constant(X)\n",
    "    X_train, X_test, y_train, y_test = train_test_split(X, model_df['in_play_boolean'], test_size=0.3, random_state=0)\n",
    "    \n",
    "    #create logistic model for prediction purposes\n",
    "    logreg = LogisticRegression()\n",
    "    logreg.fit(X_train, y_train)\n",
    "    \n",
    "    #for pvalues and interpretation\n",
    "    logit_model = sm.Logit(y_train,X_train)\n",
    "    result = logit_model.fit()\n",
    "    \n",
    "    #add tuple with summary, aic and bic for later comparision\n",
    "    model_list.append((result.summary2(), result.aic, result.bic, logreg.score(X_test, y_test)))"
   ]
  },
  {
   "cell_type": "markdown",
   "metadata": {},
   "source": [
    "compare the models\n",
    "---"
   ]
  },
  {
   "cell_type": "code",
   "execution_count": 7,
   "metadata": {},
   "outputs": [
    {
     "data": {
      "text/plain": [
       "[(160816.98726980409, 160836.6967935244, 0.7316778011703662),\n",
       " (159264.1333561523, 159293.69764173278, 0.731976194817897),\n",
       " (159161.93786092137, 159201.356908362, 0.7317772657195432),\n",
       " (157390.79168695753, 157440.06549625835, 0.7364852543805845),\n",
       " (154793.51754691146, 154852.64611807244, 0.7418894948858644),\n",
       " (154252.51233046528, 154321.49566348642, 0.7446745022628185),\n",
       " (154244.5554440481, 154323.3935389294, 0.7445418828639159),\n",
       " (154037.38610899376, 154126.0789657352, 0.745006050760075),\n",
       " (153664.69814164555, 153763.24576024717, 0.7430499146262619),\n",
       " (153616.6854708693, 153725.08785133107, 0.7434477728229697)]"
      ]
     },
     "execution_count": 7,
     "metadata": {},
     "output_type": "execute_result"
    }
   ],
   "source": [
    "[(x[1],x[2],x[3]) for x in model_list]"
   ]
  },
  {
   "cell_type": "code",
   "execution_count": 8,
   "metadata": {
    "scrolled": true
   },
   "outputs": [
    {
     "data": {
      "text/plain": [
       "(<class 'statsmodels.iolib.summary2.Summary'>\n",
       " \"\"\"\n",
       "                           Results: Logit\n",
       " ==================================================================\n",
       " Model:              Logit            Pseudo R-squared: 0.092      \n",
       " Dependent Variable: in_play_boolean  AIC:              154252.5123\n",
       " Date:               2019-10-13 21:03 BIC:              154321.4957\n",
       " No. Observations:   140753           Log-Likelihood:   -77119.    \n",
       " Df Model:           6                LL-Null:          -84958.    \n",
       " Df Residuals:       140746           LLR p-value:      0.0000     \n",
       " Converged:          1.0000           Scale:            1.0000     \n",
       " No. Iterations:     6.0000                                        \n",
       " ------------------------------------------------------------------\n",
       "                 Coef.   Std.Err.    z     P>|z|   [0.025   0.975] \n",
       " ------------------------------------------------------------------\n",
       " const          137.6839   3.9211  35.1137 0.0000 129.9987 145.3691\n",
       " px              -0.3645   0.0109 -33.4748 0.0000  -0.3859  -0.3432\n",
       " pz              -0.8087   0.0108 -74.8285 0.0000  -0.8299  -0.7875\n",
       " start_speed     -0.6169   0.0112 -55.0772 0.0000  -0.6389  -0.5950\n",
       " end_speed        0.6069   0.0122  49.8740 0.0000   0.5831   0.6308\n",
       " break_length     0.1315   0.0057  23.1301 0.0000   0.1203   0.1426\n",
       " break_y         -5.4477   0.1650 -33.0259 0.0000  -5.7710  -5.1244\n",
       " ==================================================================\n",
       " \n",
       " \"\"\", 154252.51233046528, 154321.49566348642, 0.7446745022628185)"
      ]
     },
     "execution_count": 8,
     "metadata": {},
     "output_type": "execute_result"
    }
   ],
   "source": [
    "#look at best model\n",
    "model_list[5]"
   ]
  },
  {
   "cell_type": "code",
   "execution_count": 9,
   "metadata": {},
   "outputs": [
    {
     "data": {
      "image/png": "[encoded data removed]",
      "text/plain": [
       "<Figure size 1152x360 with 2 Axes>"
      ]
     },
     "metadata": {
      "needs_background": "light"
     },
     "output_type": "display_data"
    }
   ],
   "source": [
    "#check for multicollinarity amongst best model\n",
    "features = model_df[['px', 'pz', 'start_speed', 'end_speed', 'spin_rate', 'spin_dir',\n",
    "       'break_angle', 'break_length', 'break_y', 'FF']]\n",
    "correlation_matrix = features[['px', 'pz', 'start_speed', 'end_speed', 'break_length', 'break_y']].corr().round(2)\n",
    "# annot = True to print the values inside the square\n",
    "plt.figure(figsize = (16,5))\n",
    "sn.heatmap(data=correlation_matrix, annot=True)\n",
    "plt.savefig('corrmatrix.png')"
   ]
  },
  {
   "cell_type": "markdown",
   "metadata": {},
   "source": [
    "remove end speed and look at model\n",
    "---"
   ]
  },
  {
   "cell_type": "code",
   "execution_count": 10,
   "metadata": {},
   "outputs": [
    {
     "name": "stdout",
     "output_type": "stream",
     "text": [
      "Optimization terminated successfully.\n",
      "         Current function value: 0.556941\n",
      "         Iterations 6\n",
      "                          Results: Logit\n",
      "==================================================================\n",
      "Model:              Logit            Pseudo R-squared: 0.077      \n",
      "Dependent Variable: in_play_boolean  AIC:              156794.2146\n",
      "Date:               2019-10-13 21:03 BIC:              156853.3432\n",
      "No. Observations:   140753           Log-Likelihood:   -78391.    \n",
      "Df Model:           5                LL-Null:          -84958.    \n",
      "Df Residuals:       140747           LLR p-value:      0.0000     \n",
      "Converged:          1.0000           Scale:            1.0000     \n",
      "No. Iterations:     6.0000                                        \n",
      "------------------------------------------------------------------\n",
      "                  Coef.  Std.Err.    z     P>|z|   [0.025   0.975]\n",
      "------------------------------------------------------------------\n",
      "const            -6.9759   2.6109  -2.6719 0.0075 -12.0931 -1.8588\n",
      "px               -0.3968   0.0108 -36.8199 0.0000  -0.4179 -0.3757\n",
      "pz               -0.8693   0.0107 -81.4576 0.0000  -0.8902 -0.8484\n",
      "start_speed      -0.0729   0.0024 -29.9095 0.0000  -0.0777 -0.0681\n",
      "break_length      0.1376   0.0057  24.2719 0.0000   0.1265  0.1487\n",
      "break_y           0.6872   0.1089   6.3104 0.0000   0.4737  0.9006\n",
      "==================================================================\n",
      "\n",
      "156794.21463431622\n",
      "156853.3432054772\n",
      "0.7383585033900834\n"
     ]
    }
   ],
   "source": [
    "features = model_df[['px', 'pz', 'start_speed', 'break_length', 'break_y']]\n",
    "X = sm.add_constant(features)\n",
    "\n",
    "X_train, X_test, y_train, y_test = train_test_split(X, model_df['in_play_boolean'], test_size=0.3, random_state=0)\n",
    "\n",
    "logreg = LogisticRegression()\n",
    "logreg.fit(X_train, y_train)\n",
    "    \n",
    "logit_model = sm.Logit(y_train,X_train)\n",
    "result = logit_model.fit()\n",
    "    \n",
    "print(result.summary2()) \n",
    "print(result.aic)\n",
    "print(result.bic)\n",
    "print(logreg.score(X_test, y_test))"
   ]
  },
  {
   "cell_type": "code",
   "execution_count": 11,
   "metadata": {},
   "outputs": [
    {
     "data": {
      "text/plain": [
       "1.7512948214247654"
      ]
     },
     "execution_count": 11,
     "metadata": {},
     "output_type": "execute_result"
    }
   ],
   "source": [
    "np.sum((np.abs(result.resid_pearson) >= 3))/len(result.resid_pearson) * 100"
   ]
  },
  {
   "cell_type": "markdown",
   "metadata": {},
   "source": [
    "prediction\n",
    "---"
   ]
  },
  {
   "cell_type": "code",
   "execution_count": 12,
   "metadata": {},
   "outputs": [
    {
     "data": {
      "text/plain": [
       "0    0.728687\n",
       "dtype: float64"
      ]
     },
     "execution_count": 12,
     "metadata": {},
     "output_type": "execute_result"
    }
   ],
   "source": [
    "d = {'const': [1], 'px': [np.mean(model_df.px)], 'pz': [np.mean(model_df.pz)], 'start_speed': [np.mean(model_df.start_speed)],\n",
    "     'break_length': [np.mean(model_df.break_length)], 'break_y': [np.mean(model_df.break_y)]\n",
    "    }\n",
    "avgs = pd.DataFrame.from_dict(d)\n",
    "result.predict(avgs)"
   ]
  }
 ],
 "metadata": {
  "kernelspec": {
   "display_name": "Python 3",
   "language": "python",
   "name": "python3"
  },
  "language_info": {
   "codemirror_mode": {
    "name": "ipython",
    "version": 3
   },
   "file_extension": ".py",
   "mimetype": "text/x-python",
   "name": "python",
   "nbconvert_exporter": "python",
   "pygments_lexer": "ipython3",
   "version": "3.7.3"
  }
 },
 "nbformat": 4,
 "nbformat_minor": 2
}
