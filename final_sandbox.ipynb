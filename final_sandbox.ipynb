{
 "cells": [
  {
   "cell_type": "code",
   "execution_count": 38,
   "metadata": {},
   "outputs": [],
   "source": [
    "import pandas as pd\n",
    "import numpy as np\n",
    "import matplotlib.pyplot as plt \n",
    "\n",
    "import statsmodels.api as sm\n",
    "import statsmodels.formula.api as smf\n",
    "from statsmodels.formula.api import ols\n",
    "import scipy.stats as stats\n",
    "import matplotlib.cm as cm\n",
    "from IPython.display import display\n",
    "from mpl_toolkits.mplot3d import Axes3D\n",
    "from sklearn.feature_selection import f_regression\n",
    "from statsmodels.stats.anova import anova_lm\n",
    "from sklearn.linear_model import LogisticRegression\n",
    "\n",
    "#import seaborn as sns\n",
    "#sns.set(style = 'white')"
   ]
  },
  {
   "cell_type": "code",
   "execution_count": 47,
   "metadata": {},
   "outputs": [],
   "source": [
    "#load data\n",
    "\n",
    "#pitches_orig = pd.read_csv('pitches.csv')\n",
    "#at_bat = pd.read_csv('atbats.csv')"
   ]
  },
  {
   "cell_type": "markdown",
   "metadata": {},
   "source": [
    "Data Description:\n",
    "---\n",
    "Our data is from a Kaggle competition: https://www.kaggle.com/pschale/mlb-pitch-data-20152018\n",
    "\n",
    "The data consists of pitch information from 2015-2018 and originally consists of 2.87 million observations and 40 columns, 1 column is the response and leaves 39 possible predictors. We aim to predict on the pithces swung at, whether or not the ball was put in play or not, which is a binary classification problem at its core.\n",
    "\n",
    "After some data investigating we were left with 10 predictors listed below. We choose these predictor since they were the most interpretable. After understanding each of these predictors, we made some decisions on the data our model would ingest. For example, `p_x` is one of our predictors and looks at the location of the ball relative to the sides of home plate. This `p_x` is hard to interpret for left handed vs right handed batters, so we only included right handed at bats since those were ___ % of the at bats. Additionally, we only looked at plays where the batter swung the bat and the ball was hit in play or missed completley. Finally, we narrowed our data set down to only fastballs, two seam and four seam, and encoded a dummy variable accordingly.\n",
    "\n",
    "Our model data set was ___ number of rows and 10 columns for the X matrix. There were ___ swinging strikes and ___ in play balls, ___ % and ___ % of the entire data set respectivley.\n",
    "\n",
    "\n",
    "* **response** is swinging strike or ball put in play - a binary variable\n",
    "    * X - In play, out(s)\n",
    "    * D - In play, no out\n",
    "    * E - In play, runs\n",
    "    * S - Swinging Strike\n",
    "\n",
    "Predictors\n",
    "\n",
    "* only doing four seam and two seam fastball:\n",
    "    * pitch_type: FF and FT\n",
    "* p_x: x-location as pitch crosses the plate. X=0 means right down the middle\n",
    "* p_z:z-location as pitch crosses the plate. Z=0 means the ground\n",
    "* start_speed: Speed of the pitch just as it's thrown\n",
    "* end_speed: Speed of the pitch when it reaches the plate #linear wtih start speed\n",
    "* spin_rate: the pitch's spin rate, measure in RPM\n",
    "* spin_dir: Direction in which pitch is spinning, measured in degrees\n",
    "* break_angle: \n",
    "* break_length: \n",
    "* break_y"
   ]
  },
  {
   "cell_type": "markdown",
   "metadata": {},
   "source": [
    "Statement of the research problems, and a summary of methods​ included in the\n",
    "report."
   ]
  },
  {
   "cell_type": "markdown",
   "metadata": {},
   "source": [
    "Problem statement "
   ]
  },
  {
   "cell_type": "code",
   "execution_count": 48,
   "metadata": {
    "scrolled": false
   },
   "outputs": [
    {
     "data": {
      "text/html": [
       "<div>\n",
       "<style scoped>\n",
       "    .dataframe tbody tr th:only-of-type {\n",
       "        vertical-align: middle;\n",
       "    }\n",
       "\n",
       "    .dataframe tbody tr th {\n",
       "        vertical-align: top;\n",
       "    }\n",
       "\n",
       "    .dataframe thead th {\n",
       "        text-align: right;\n",
       "    }\n",
       "</style>\n",
       "<table border=\"1\" class=\"dataframe\">\n",
       "  <thead>\n",
       "    <tr style=\"text-align: right;\">\n",
       "      <th></th>\n",
       "      <th>px</th>\n",
       "      <th>pz</th>\n",
       "      <th>start_speed</th>\n",
       "      <th>end_speed</th>\n",
       "      <th>spin_rate</th>\n",
       "      <th>spin_dir</th>\n",
       "      <th>break_angle</th>\n",
       "      <th>break_length</th>\n",
       "      <th>break_y</th>\n",
       "      <th>ax</th>\n",
       "      <th>...</th>\n",
       "      <th>event_num</th>\n",
       "      <th>b_score</th>\n",
       "      <th>ab_id</th>\n",
       "      <th>b_count</th>\n",
       "      <th>s_count</th>\n",
       "      <th>outs</th>\n",
       "      <th>pitch_num</th>\n",
       "      <th>on_1b</th>\n",
       "      <th>on_2b</th>\n",
       "      <th>on_3b</th>\n",
       "    </tr>\n",
       "  </thead>\n",
       "  <tbody>\n",
       "    <tr>\n",
       "      <th>0</th>\n",
       "      <td>0.416</td>\n",
       "      <td>2.963</td>\n",
       "      <td>92.9</td>\n",
       "      <td>84.1</td>\n",
       "      <td>2305.052</td>\n",
       "      <td>159.235</td>\n",
       "      <td>-25.0</td>\n",
       "      <td>3.2</td>\n",
       "      <td>23.7</td>\n",
       "      <td>7.665</td>\n",
       "      <td>...</td>\n",
       "      <td>3</td>\n",
       "      <td>0.0</td>\n",
       "      <td>2.015000e+09</td>\n",
       "      <td>0.0</td>\n",
       "      <td>0.0</td>\n",
       "      <td>0.0</td>\n",
       "      <td>1.0</td>\n",
       "      <td>0.0</td>\n",
       "      <td>0.0</td>\n",
       "      <td>0.0</td>\n",
       "    </tr>\n",
       "    <tr>\n",
       "      <th>1</th>\n",
       "      <td>-0.191</td>\n",
       "      <td>2.347</td>\n",
       "      <td>92.8</td>\n",
       "      <td>84.1</td>\n",
       "      <td>2689.935</td>\n",
       "      <td>151.402</td>\n",
       "      <td>-40.7</td>\n",
       "      <td>3.4</td>\n",
       "      <td>23.7</td>\n",
       "      <td>12.043</td>\n",
       "      <td>...</td>\n",
       "      <td>4</td>\n",
       "      <td>0.0</td>\n",
       "      <td>2.015000e+09</td>\n",
       "      <td>0.0</td>\n",
       "      <td>1.0</td>\n",
       "      <td>0.0</td>\n",
       "      <td>2.0</td>\n",
       "      <td>0.0</td>\n",
       "      <td>0.0</td>\n",
       "      <td>0.0</td>\n",
       "    </tr>\n",
       "  </tbody>\n",
       "</table>\n",
       "<p>2 rows × 40 columns</p>\n",
       "</div>"
      ],
      "text/plain": [
       "      px     pz  start_speed  end_speed  spin_rate  spin_dir  break_angle  \\\n",
       "0  0.416  2.963         92.9       84.1   2305.052   159.235        -25.0   \n",
       "1 -0.191  2.347         92.8       84.1   2689.935   151.402        -40.7   \n",
       "\n",
       "   break_length  break_y      ax  ...  event_num  b_score         ab_id  \\\n",
       "0           3.2     23.7   7.665  ...          3      0.0  2.015000e+09   \n",
       "1           3.4     23.7  12.043  ...          4      0.0  2.015000e+09   \n",
       "\n",
       "   b_count  s_count  outs  pitch_num  on_1b  on_2b  on_3b  \n",
       "0      0.0      0.0   0.0        1.0    0.0    0.0    0.0  \n",
       "1      0.0      1.0   0.0        2.0    0.0    0.0    0.0  \n",
       "\n",
       "[2 rows x 40 columns]"
      ]
     },
     "execution_count": 48,
     "metadata": {},
     "output_type": "execute_result"
    }
   ],
   "source": [
    "pitches_orig.head(2)"
   ]
  },
  {
   "cell_type": "code",
   "execution_count": 49,
   "metadata": {},
   "outputs": [
    {
     "data": {
      "text/html": [
       "<div>\n",
       "<style scoped>\n",
       "    .dataframe tbody tr th:only-of-type {\n",
       "        vertical-align: middle;\n",
       "    }\n",
       "\n",
       "    .dataframe tbody tr th {\n",
       "        vertical-align: top;\n",
       "    }\n",
       "\n",
       "    .dataframe thead th {\n",
       "        text-align: right;\n",
       "    }\n",
       "</style>\n",
       "<table border=\"1\" class=\"dataframe\">\n",
       "  <thead>\n",
       "    <tr style=\"text-align: right;\">\n",
       "      <th></th>\n",
       "      <th>ab_id</th>\n",
       "      <th>batter_id</th>\n",
       "      <th>event</th>\n",
       "      <th>g_id</th>\n",
       "      <th>inning</th>\n",
       "      <th>o</th>\n",
       "      <th>p_score</th>\n",
       "      <th>p_throws</th>\n",
       "      <th>pitcher_id</th>\n",
       "      <th>stand</th>\n",
       "      <th>top</th>\n",
       "    </tr>\n",
       "  </thead>\n",
       "  <tbody>\n",
       "    <tr>\n",
       "      <th>2</th>\n",
       "      <td>2015000003</td>\n",
       "      <td>407812</td>\n",
       "      <td>Single</td>\n",
       "      <td>201500001</td>\n",
       "      <td>1</td>\n",
       "      <td>1</td>\n",
       "      <td>0</td>\n",
       "      <td>L</td>\n",
       "      <td>452657</td>\n",
       "      <td>R</td>\n",
       "      <td>True</td>\n",
       "    </tr>\n",
       "    <tr>\n",
       "      <th>3</th>\n",
       "      <td>2015000004</td>\n",
       "      <td>425509</td>\n",
       "      <td>Strikeout</td>\n",
       "      <td>201500001</td>\n",
       "      <td>1</td>\n",
       "      <td>2</td>\n",
       "      <td>0</td>\n",
       "      <td>L</td>\n",
       "      <td>452657</td>\n",
       "      <td>R</td>\n",
       "      <td>True</td>\n",
       "    </tr>\n",
       "    <tr>\n",
       "      <th>6</th>\n",
       "      <td>2015000007</td>\n",
       "      <td>624585</td>\n",
       "      <td>Groundout</td>\n",
       "      <td>201500001</td>\n",
       "      <td>1</td>\n",
       "      <td>1</td>\n",
       "      <td>1</td>\n",
       "      <td>R</td>\n",
       "      <td>425794</td>\n",
       "      <td>R</td>\n",
       "      <td>False</td>\n",
       "    </tr>\n",
       "    <tr>\n",
       "      <th>8</th>\n",
       "      <td>2015000009</td>\n",
       "      <td>516770</td>\n",
       "      <td>Groundout</td>\n",
       "      <td>201500001</td>\n",
       "      <td>1</td>\n",
       "      <td>3</td>\n",
       "      <td>1</td>\n",
       "      <td>R</td>\n",
       "      <td>425794</td>\n",
       "      <td>R</td>\n",
       "      <td>False</td>\n",
       "    </tr>\n",
       "    <tr>\n",
       "      <th>9</th>\n",
       "      <td>2015000010</td>\n",
       "      <td>425877</td>\n",
       "      <td>Strikeout</td>\n",
       "      <td>201500001</td>\n",
       "      <td>2</td>\n",
       "      <td>1</td>\n",
       "      <td>0</td>\n",
       "      <td>L</td>\n",
       "      <td>452657</td>\n",
       "      <td>R</td>\n",
       "      <td>True</td>\n",
       "    </tr>\n",
       "  </tbody>\n",
       "</table>\n",
       "</div>"
      ],
      "text/plain": [
       "        ab_id  batter_id      event       g_id  inning  o  p_score p_throws  \\\n",
       "2  2015000003     407812     Single  201500001       1  1        0        L   \n",
       "3  2015000004     425509  Strikeout  201500001       1  2        0        L   \n",
       "6  2015000007     624585  Groundout  201500001       1  1        1        R   \n",
       "8  2015000009     516770  Groundout  201500001       1  3        1        R   \n",
       "9  2015000010     425877  Strikeout  201500001       2  1        0        L   \n",
       "\n",
       "   pitcher_id stand    top  \n",
       "2      452657     R   True  \n",
       "3      452657     R   True  \n",
       "6      425794     R  False  \n",
       "8      425794     R  False  \n",
       "9      452657     R   True  "
      ]
     },
     "execution_count": 49,
     "metadata": {},
     "output_type": "execute_result"
    }
   ],
   "source": [
    "at_bat_right_hand.head()"
   ]
  },
  {
   "cell_type": "code",
   "execution_count": 12,
   "metadata": {},
   "outputs": [
    {
     "data": {
      "text/plain": [
       "90379"
      ]
     },
     "execution_count": 12,
     "metadata": {},
     "output_type": "execute_result"
    }
   ],
   "source": [
    "pitches_orig.loc[(pitches_orig.code.isin(['X', 'D', 'E', 'S'])) & (pitches_orig.pitch_type.isin(['FT']))].shape[0]"
   ]
  },
  {
   "cell_type": "code",
   "execution_count": 9,
   "metadata": {
    "scrolled": true
   },
   "outputs": [
    {
     "data": {
      "text/plain": [
       "0.3463076934858467"
      ]
     },
     "execution_count": 9,
     "metadata": {},
     "output_type": "execute_result"
    }
   ],
   "source": [
    "pitches_orig.loc[pitches_orig.code.isin(['S'])].shape[0]/(pitches_orig.loc[pitches_orig.code.isin(['S'])].shape[0] + pitches_orig.loc[pitches_orig.code.isin(['X', 'D', 'E'])].shape[0])"
   ]
  },
  {
   "cell_type": "markdown",
   "metadata": {},
   "source": [
    "full data clean\n",
    "---"
   ]
  },
  {
   "cell_type": "code",
   "execution_count": 51,
   "metadata": {},
   "outputs": [],
   "source": [
    "at_bat_right_hand = at_bat.loc[at_bat.stand == 'R']\n",
    "pitches_orig = pd.merge(pitches_orig, at_bat_right_hand, how = 'inner', right_on = 'ab_id', left_on = 'ab_id')\n",
    "pitches_orig = pitches_orig.loc[(pitches_orig.code.isin(['X', 'D', 'E', 'S'])) & (pitches_orig.pitch_type.isin(['FT', 'FF']))]\n",
    "pitches_orig.loc[pitches_orig.code.isin(['X', 'D', 'E']), 'in_play_boolean'] = int(1)\n",
    "pitches_orig.loc[pitches_orig.code.isin(['S']), 'in_play_boolean'] = int(0)\n",
    "model_df = pitches_orig[['px', 'pz', 'start_speed', 'end_speed', 'spin_rate', 'spin_dir',\n",
    "       'break_angle', 'break_length', 'break_y', 'pitch_type','in_play_boolean']]\n",
    "#dummies\n",
    "pitch_typed = pd.get_dummies(model_df['pitch_type'])\n",
    "#cat_list = pd.get_dummies(model_df['pitch_type'], prefix=var)\n",
    "model_df = pd.concat([model_df, pitch_typed], axis=1)\n",
    "#data=data1"
   ]
  },
  {
   "cell_type": "code",
   "execution_count": 55,
   "metadata": {},
   "outputs": [],
   "source": [
    "#dummies\n",
    "pitch_typed = pd.get_dummies(model_df['pitch_type'])\n",
    "#cat_list = pd.get_dummies(model_df['pitch_type'], prefix=var)\n",
    "model_df = pd.concat([model_df, pitch_typed], axis=1)\n",
    "#data=data1"
   ]
  },
  {
   "cell_type": "code",
   "execution_count": 75,
   "metadata": {},
   "outputs": [
    {
     "data": {
      "text/html": [
       "<div>\n",
       "<style scoped>\n",
       "    .dataframe tbody tr th:only-of-type {\n",
       "        vertical-align: middle;\n",
       "    }\n",
       "\n",
       "    .dataframe tbody tr th {\n",
       "        vertical-align: top;\n",
       "    }\n",
       "\n",
       "    .dataframe thead th {\n",
       "        text-align: right;\n",
       "    }\n",
       "</style>\n",
       "<table border=\"1\" class=\"dataframe\">\n",
       "  <thead>\n",
       "    <tr style=\"text-align: right;\">\n",
       "      <th></th>\n",
       "      <th>px</th>\n",
       "      <th>pz</th>\n",
       "      <th>start_speed</th>\n",
       "      <th>end_speed</th>\n",
       "      <th>spin_rate</th>\n",
       "      <th>spin_dir</th>\n",
       "      <th>break_angle</th>\n",
       "      <th>break_length</th>\n",
       "      <th>break_y</th>\n",
       "      <th>FF</th>\n",
       "      <th>FT</th>\n",
       "    </tr>\n",
       "    <tr>\n",
       "      <th>in_play_boolean</th>\n",
       "      <th></th>\n",
       "      <th></th>\n",
       "      <th></th>\n",
       "      <th></th>\n",
       "      <th></th>\n",
       "      <th></th>\n",
       "      <th></th>\n",
       "      <th></th>\n",
       "      <th></th>\n",
       "      <th></th>\n",
       "      <th></th>\n",
       "    </tr>\n",
       "  </thead>\n",
       "  <tbody>\n",
       "    <tr>\n",
       "      <th>0.0</th>\n",
       "      <td>0.054367</td>\n",
       "      <td>2.843619</td>\n",
       "      <td>93.289811</td>\n",
       "      <td>85.434176</td>\n",
       "      <td>2187.806680</td>\n",
       "      <td>189.528325</td>\n",
       "      <td>7.844791</td>\n",
       "      <td>4.166422</td>\n",
       "      <td>23.791840</td>\n",
       "      <td>0.815159</td>\n",
       "      <td>0.184841</td>\n",
       "    </tr>\n",
       "    <tr>\n",
       "      <th>1.0</th>\n",
       "      <td>-0.068884</td>\n",
       "      <td>2.496959</td>\n",
       "      <td>92.548382</td>\n",
       "      <td>85.048025</td>\n",
       "      <td>2140.783382</td>\n",
       "      <td>191.174323</td>\n",
       "      <td>9.193090</td>\n",
       "      <td>4.641281</td>\n",
       "      <td>23.799423</td>\n",
       "      <td>0.706511</td>\n",
       "      <td>0.293489</td>\n",
       "    </tr>\n",
       "  </tbody>\n",
       "</table>\n",
       "</div>"
      ],
      "text/plain": [
       "                       px        pz  start_speed  end_speed    spin_rate  \\\n",
       "in_play_boolean                                                            \n",
       "0.0              0.054367  2.843619    93.289811  85.434176  2187.806680   \n",
       "1.0             -0.068884  2.496959    92.548382  85.048025  2140.783382   \n",
       "\n",
       "                   spin_dir  break_angle  break_length    break_y        FF  \\\n",
       "in_play_boolean                                                               \n",
       "0.0              189.528325     7.844791      4.166422  23.791840  0.815159   \n",
       "1.0              191.174323     9.193090      4.641281  23.799423  0.706511   \n",
       "\n",
       "                       FT  \n",
       "in_play_boolean            \n",
       "0.0              0.184841  \n",
       "1.0              0.293489  "
      ]
     },
     "execution_count": 75,
     "metadata": {},
     "output_type": "execute_result"
    }
   ],
   "source": [
    "model_df.groupby('in_play_boolean').mean()"
   ]
  },
  {
   "cell_type": "code",
   "execution_count": 73,
   "metadata": {},
   "outputs": [
    {
     "name": "stderr",
     "output_type": "stream",
     "text": [
      "/Users/rushilsheth/anaconda3/lib/python3.7/site-packages/numpy/core/fromnumeric.py:2389: FutureWarning: Method .ptp is deprecated and will be removed in a future version. Use numpy.ptp instead.\n",
      "  return ptp(axis=axis, out=out, **kwargs)\n"
     ]
    }
   ],
   "source": [
    "features = model_df[['px', 'pz', 'start_speed', 'end_speed', 'spin_rate', 'spin_dir',\n",
    "       'break_angle', 'break_length', 'break_y', 'FF', 'FT']]\n",
    "X = sm.add_constant(features)"
   ]
  },
  {
   "cell_type": "code",
   "execution_count": 70,
   "metadata": {
    "scrolled": true
   },
   "outputs": [
    {
     "data": {
      "text/plain": [
       "201076"
      ]
     },
     "execution_count": 70,
     "metadata": {},
     "output_type": "execute_result"
    }
   ],
   "source": [
    "model_df.shape[0]"
   ]
  },
  {
   "cell_type": "code",
   "execution_count": 77,
   "metadata": {},
   "outputs": [
    {
     "data": {
      "text/html": [
       "<div>\n",
       "<style scoped>\n",
       "    .dataframe tbody tr th:only-of-type {\n",
       "        vertical-align: middle;\n",
       "    }\n",
       "\n",
       "    .dataframe tbody tr th {\n",
       "        vertical-align: top;\n",
       "    }\n",
       "\n",
       "    .dataframe thead th {\n",
       "        text-align: right;\n",
       "    }\n",
       "</style>\n",
       "<table border=\"1\" class=\"dataframe\">\n",
       "  <thead>\n",
       "    <tr style=\"text-align: right;\">\n",
       "      <th></th>\n",
       "      <th>const</th>\n",
       "      <th>px</th>\n",
       "      <th>pz</th>\n",
       "      <th>start_speed</th>\n",
       "      <th>end_speed</th>\n",
       "      <th>spin_rate</th>\n",
       "      <th>spin_dir</th>\n",
       "      <th>break_angle</th>\n",
       "      <th>break_length</th>\n",
       "      <th>break_y</th>\n",
       "      <th>FF</th>\n",
       "      <th>FT</th>\n",
       "    </tr>\n",
       "  </thead>\n",
       "  <tbody>\n",
       "    <tr>\n",
       "      <th>2</th>\n",
       "      <td>1.0</td>\n",
       "      <td>-0.286</td>\n",
       "      <td>1.830</td>\n",
       "      <td>92.6</td>\n",
       "      <td>84.4</td>\n",
       "      <td>2475.323</td>\n",
       "      <td>137.145</td>\n",
       "      <td>-39.0</td>\n",
       "      <td>4.8</td>\n",
       "      <td>23.7</td>\n",
       "      <td>1</td>\n",
       "      <td>0</td>\n",
       "    </tr>\n",
       "    <tr>\n",
       "      <th>17</th>\n",
       "      <td>1.0</td>\n",
       "      <td>1.253</td>\n",
       "      <td>2.260</td>\n",
       "      <td>91.4</td>\n",
       "      <td>83.5</td>\n",
       "      <td>2597.251</td>\n",
       "      <td>156.275</td>\n",
       "      <td>-36.5</td>\n",
       "      <td>3.3</td>\n",
       "      <td>23.7</td>\n",
       "      <td>1</td>\n",
       "      <td>0</td>\n",
       "    </tr>\n",
       "    <tr>\n",
       "      <th>32</th>\n",
       "      <td>1.0</td>\n",
       "      <td>0.487</td>\n",
       "      <td>2.332</td>\n",
       "      <td>89.2</td>\n",
       "      <td>81.8</td>\n",
       "      <td>1675.017</td>\n",
       "      <td>190.160</td>\n",
       "      <td>5.3</td>\n",
       "      <td>4.5</td>\n",
       "      <td>23.8</td>\n",
       "      <td>1</td>\n",
       "      <td>0</td>\n",
       "    </tr>\n",
       "    <tr>\n",
       "      <th>54</th>\n",
       "      <td>1.0</td>\n",
       "      <td>0.056</td>\n",
       "      <td>3.286</td>\n",
       "      <td>89.2</td>\n",
       "      <td>80.9</td>\n",
       "      <td>2309.073</td>\n",
       "      <td>150.668</td>\n",
       "      <td>-29.9</td>\n",
       "      <td>4.1</td>\n",
       "      <td>23.7</td>\n",
       "      <td>1</td>\n",
       "      <td>0</td>\n",
       "    </tr>\n",
       "    <tr>\n",
       "      <th>57</th>\n",
       "      <td>1.0</td>\n",
       "      <td>0.140</td>\n",
       "      <td>1.891</td>\n",
       "      <td>90.7</td>\n",
       "      <td>82.7</td>\n",
       "      <td>2161.347</td>\n",
       "      <td>147.950</td>\n",
       "      <td>-27.8</td>\n",
       "      <td>4.4</td>\n",
       "      <td>23.7</td>\n",
       "      <td>1</td>\n",
       "      <td>0</td>\n",
       "    </tr>\n",
       "  </tbody>\n",
       "</table>\n",
       "</div>"
      ],
      "text/plain": [
       "    const     px     pz  start_speed  end_speed  spin_rate  spin_dir  \\\n",
       "2     1.0 -0.286  1.830         92.6       84.4   2475.323   137.145   \n",
       "17    1.0  1.253  2.260         91.4       83.5   2597.251   156.275   \n",
       "32    1.0  0.487  2.332         89.2       81.8   1675.017   190.160   \n",
       "54    1.0  0.056  3.286         89.2       80.9   2309.073   150.668   \n",
       "57    1.0  0.140  1.891         90.7       82.7   2161.347   147.950   \n",
       "\n",
       "    break_angle  break_length  break_y  FF  FT  \n",
       "2         -39.0           4.8     23.7   1   0  \n",
       "17        -36.5           3.3     23.7   1   0  \n",
       "32          5.3           4.5     23.8   1   0  \n",
       "54        -29.9           4.1     23.7   1   0  \n",
       "57        -27.8           4.4     23.7   1   0  "
      ]
     },
     "execution_count": 77,
     "metadata": {},
     "output_type": "execute_result"
    }
   ],
   "source": [
    "X.head()"
   ]
  },
  {
   "cell_type": "code",
   "execution_count": 79,
   "metadata": {},
   "outputs": [
    {
     "name": "stdout",
     "output_type": "stream",
     "text": [
      "Optimization terminated successfully.\n",
      "         Current function value: 0.602414\n",
      "         Iterations 5\n",
      "                          Results: Logit\n",
      "==================================================================\n",
      "Model:              Logit            Pseudo R-squared: 0.003      \n",
      "Dependent Variable: in_play_boolean  AIC:              242268.0306\n",
      "Date:               2019-10-05 15:16 BIC:              242298.6649\n",
      "No. Observations:   201076           Log-Likelihood:   -1.2113e+05\n",
      "Df Model:           2                LL-Null:          -1.2146e+05\n",
      "Df Residuals:       201073           LLR p-value:      4.0800e-142\n",
      "Converged:          1.0000           Scale:            1.0000     \n",
      "No. Iterations:     5.0000                                        \n",
      "-------------------------------------------------------------------\n",
      "               Coef.   Std.Err.     z      P>|z|    [0.025   0.975]\n",
      "-------------------------------------------------------------------\n",
      "const          1.4906    0.0269   55.4993  0.0000   1.4379   1.5432\n",
      "spin_rate     -0.0003    0.0000  -23.5837  0.0000  -0.0003  -0.0003\n",
      "break_angle    0.0016    0.0002    9.9049  0.0000   0.0013   0.0020\n",
      "==================================================================\n",
      "\n"
     ]
    }
   ],
   "source": [
    "import statsmodels.api as sm\n",
    "logit_model=sm.Logit(model_df[['in_play_boolean']],X[['const', 'spin_rate', 'break_angle']])\n",
    "result=logit_model.fit()\n",
    "print(result.summary2())"
   ]
  },
  {
   "cell_type": "markdown",
   "metadata": {},
   "source": [
    "EDA\n",
    "---"
   ]
  },
  {
   "cell_type": "code",
   "execution_count": 37,
   "metadata": {},
   "outputs": [
    {
     "ename": "TypeError",
     "evalue": "can only concatenate str (not \"float\") to str",
     "output_type": "error",
     "traceback": [
      "\u001b[0;31m---------------------------------------------------------------------------\u001b[0m",
      "\u001b[0;31mTypeError\u001b[0m                                 Traceback (most recent call last)",
      "\u001b[0;32m<ipython-input-37-b8d0e75145c0>\u001b[0m in \u001b[0;36m<module>\u001b[0;34m\u001b[0m\n\u001b[1;32m     10\u001b[0m     \u001b[0mplt\u001b[0m\u001b[0;34m.\u001b[0m\u001b[0mplot\u001b[0m\u001b[0;34m(\u001b[0m\u001b[0mx\u001b[0m\u001b[0;34m,\u001b[0m \u001b[0my\u001b[0m\u001b[0;34m,\u001b[0m \u001b[0;34m'o'\u001b[0m\u001b[0;34m)\u001b[0m\u001b[0;34m\u001b[0m\u001b[0;34m\u001b[0m\u001b[0m\n\u001b[1;32m     11\u001b[0m     \u001b[0;31m# Create regression line\u001b[0m\u001b[0;34m\u001b[0m\u001b[0;34m\u001b[0m\u001b[0;34m\u001b[0m\u001b[0m\n\u001b[0;32m---> 12\u001b[0;31m     \u001b[0mplt\u001b[0m\u001b[0;34m.\u001b[0m\u001b[0mplot\u001b[0m\u001b[0;34m(\u001b[0m\u001b[0mnp\u001b[0m\u001b[0;34m.\u001b[0m\u001b[0munique\u001b[0m\u001b[0;34m(\u001b[0m\u001b[0mx\u001b[0m\u001b[0;34m)\u001b[0m\u001b[0;34m,\u001b[0m \u001b[0mnp\u001b[0m\u001b[0;34m.\u001b[0m\u001b[0mpoly1d\u001b[0m\u001b[0;34m(\u001b[0m\u001b[0mnp\u001b[0m\u001b[0;34m.\u001b[0m\u001b[0mpolyfit\u001b[0m\u001b[0;34m(\u001b[0m\u001b[0mx\u001b[0m\u001b[0;34m,\u001b[0m \u001b[0my\u001b[0m\u001b[0;34m,\u001b[0m \u001b[0;36m1\u001b[0m\u001b[0;34m)\u001b[0m\u001b[0;34m)\u001b[0m\u001b[0;34m(\u001b[0m\u001b[0mnp\u001b[0m\u001b[0;34m.\u001b[0m\u001b[0munique\u001b[0m\u001b[0;34m(\u001b[0m\u001b[0mx\u001b[0m\u001b[0;34m)\u001b[0m\u001b[0;34m)\u001b[0m\u001b[0;34m)\u001b[0m\u001b[0;34m\u001b[0m\u001b[0;34m\u001b[0m\u001b[0m\n\u001b[0m\u001b[1;32m     13\u001b[0m     \u001b[0mplt\u001b[0m\u001b[0;34m.\u001b[0m\u001b[0mtitle\u001b[0m\u001b[0;34m(\u001b[0m\u001b[0mcol\u001b[0m\u001b[0;34m)\u001b[0m\u001b[0;34m\u001b[0m\u001b[0;34m\u001b[0m\u001b[0m\n\u001b[1;32m     14\u001b[0m     \u001b[0mplt\u001b[0m\u001b[0;34m.\u001b[0m\u001b[0mxlabel\u001b[0m\u001b[0;34m(\u001b[0m\u001b[0mcol\u001b[0m\u001b[0;34m)\u001b[0m\u001b[0;34m\u001b[0m\u001b[0;34m\u001b[0m\u001b[0m\n",
      "\u001b[0;32m~/anaconda3/lib/python3.7/site-packages/numpy/lib/polynomial.py\u001b[0m in \u001b[0;36mpolyfit\u001b[0;34m(x, y, deg, rcond, full, w, cov)\u001b[0m\n\u001b[1;32m    587\u001b[0m     \"\"\"\n\u001b[1;32m    588\u001b[0m     \u001b[0morder\u001b[0m \u001b[0;34m=\u001b[0m \u001b[0mint\u001b[0m\u001b[0;34m(\u001b[0m\u001b[0mdeg\u001b[0m\u001b[0;34m)\u001b[0m \u001b[0;34m+\u001b[0m \u001b[0;36m1\u001b[0m\u001b[0;34m\u001b[0m\u001b[0;34m\u001b[0m\u001b[0m\n\u001b[0;32m--> 589\u001b[0;31m     \u001b[0mx\u001b[0m \u001b[0;34m=\u001b[0m \u001b[0mNX\u001b[0m\u001b[0;34m.\u001b[0m\u001b[0masarray\u001b[0m\u001b[0;34m(\u001b[0m\u001b[0mx\u001b[0m\u001b[0;34m)\u001b[0m \u001b[0;34m+\u001b[0m \u001b[0;36m0.0\u001b[0m\u001b[0;34m\u001b[0m\u001b[0;34m\u001b[0m\u001b[0m\n\u001b[0m\u001b[1;32m    590\u001b[0m     \u001b[0my\u001b[0m \u001b[0;34m=\u001b[0m \u001b[0mNX\u001b[0m\u001b[0;34m.\u001b[0m\u001b[0masarray\u001b[0m\u001b[0;34m(\u001b[0m\u001b[0my\u001b[0m\u001b[0;34m)\u001b[0m \u001b[0;34m+\u001b[0m \u001b[0;36m0.0\u001b[0m\u001b[0;34m\u001b[0m\u001b[0;34m\u001b[0m\u001b[0m\n\u001b[1;32m    591\u001b[0m \u001b[0;34m\u001b[0m\u001b[0m\n",
      "\u001b[0;31mTypeError\u001b[0m: can only concatenate str (not \"float\") to str"
     ]
    },
    {
     "data": {
      "image/png": "[encoded data removed]",
      "text/plain": [
       "<Figure size 1440x216 with 10 Axes>"
      ]
     },
     "metadata": {
      "needs_background": "light"
     },
     "output_type": "display_data"
    }
   ],
   "source": [
    "#scatter plot\n",
    "import matplotlib.pyplot as plt\n",
    "plt.figure(figsize=(20, 3))\n",
    "\n",
    "# i: index\n",
    "for i, col in enumerate(features.columns):\n",
    "    plt.subplot(1, 13, i+1)\n",
    "    x = features[col]\n",
    "    y = model_df.in_play_boolean\n",
    "    plt.plot(x, y, 'o')\n",
    "    # Create regression line\n",
    "    plt.plot(np.unique(x), np.poly1d(np.polyfit(x, y, 1))(np.unique(x)))\n",
    "    plt.title(col)\n",
    "    plt.xlabel(col)\n",
    "    plt.ylabel('in play')"
   ]
  },
  {
   "cell_type": "code",
   "execution_count": 39,
   "metadata": {},
   "outputs": [
    {
     "data": {
      "text/plain": [
       "1.0    244747\n",
       "0.0     98509\n",
       "Name: in_play_boolean, dtype: int64"
      ]
     },
     "execution_count": 39,
     "metadata": {},
     "output_type": "execute_result"
    }
   ],
   "source": [
    "model_df['in_play_boolean'].value_counts()"
   ]
  },
  {
   "cell_type": "code",
   "execution_count": 40,
   "metadata": {},
   "outputs": [
    {
     "data": {
      "text/html": [
       "<div>\n",
       "<style scoped>\n",
       "    .dataframe tbody tr th:only-of-type {\n",
       "        vertical-align: middle;\n",
       "    }\n",
       "\n",
       "    .dataframe tbody tr th {\n",
       "        vertical-align: top;\n",
       "    }\n",
       "\n",
       "    .dataframe thead th {\n",
       "        text-align: right;\n",
       "    }\n",
       "</style>\n",
       "<table border=\"1\" class=\"dataframe\">\n",
       "  <thead>\n",
       "    <tr style=\"text-align: right;\">\n",
       "      <th></th>\n",
       "      <th>px</th>\n",
       "      <th>pz</th>\n",
       "      <th>start_speed</th>\n",
       "      <th>end_speed</th>\n",
       "      <th>spin_rate</th>\n",
       "      <th>spin_dir</th>\n",
       "      <th>break_angle</th>\n",
       "      <th>break_length</th>\n",
       "      <th>break_y</th>\n",
       "    </tr>\n",
       "    <tr>\n",
       "      <th>in_play_boolean</th>\n",
       "      <th></th>\n",
       "      <th></th>\n",
       "      <th></th>\n",
       "      <th></th>\n",
       "      <th></th>\n",
       "      <th></th>\n",
       "      <th></th>\n",
       "      <th></th>\n",
       "      <th></th>\n",
       "    </tr>\n",
       "  </thead>\n",
       "  <tbody>\n",
       "    <tr>\n",
       "      <th>0.0</th>\n",
       "      <td>-0.052575</td>\n",
       "      <td>2.845445</td>\n",
       "      <td>93.313996</td>\n",
       "      <td>85.450735</td>\n",
       "      <td>2189.556934</td>\n",
       "      <td>193.688385</td>\n",
       "      <td>11.999671</td>\n",
       "      <td>4.196711</td>\n",
       "      <td>23.791857</td>\n",
       "    </tr>\n",
       "    <tr>\n",
       "      <th>1.0</th>\n",
       "      <td>-0.066424</td>\n",
       "      <td>2.481995</td>\n",
       "      <td>92.598559</td>\n",
       "      <td>85.101599</td>\n",
       "      <td>2131.829892</td>\n",
       "      <td>195.829443</td>\n",
       "      <td>12.439588</td>\n",
       "      <td>4.630540</td>\n",
       "      <td>23.799906</td>\n",
       "    </tr>\n",
       "  </tbody>\n",
       "</table>\n",
       "</div>"
      ],
      "text/plain": [
       "                       px        pz  start_speed  end_speed    spin_rate  \\\n",
       "in_play_boolean                                                            \n",
       "0.0             -0.052575  2.845445    93.313996  85.450735  2189.556934   \n",
       "1.0             -0.066424  2.481995    92.598559  85.101599  2131.829892   \n",
       "\n",
       "                   spin_dir  break_angle  break_length    break_y  \n",
       "in_play_boolean                                                    \n",
       "0.0              193.688385    11.999671      4.196711  23.791857  \n",
       "1.0              195.829443    12.439588      4.630540  23.799906  "
      ]
     },
     "execution_count": 40,
     "metadata": {},
     "output_type": "execute_result"
    }
   ],
   "source": [
    "model_df.groupby('in_play_boolean').mean()"
   ]
  },
  {
   "cell_type": "code",
   "execution_count": 41,
   "metadata": {},
   "outputs": [
    {
     "ename": "NameError",
     "evalue": "name 'var' is not defined",
     "output_type": "error",
     "traceback": [
      "\u001b[0;31m---------------------------------------------------------------------------\u001b[0m",
      "\u001b[0;31mNameError\u001b[0m                                 Traceback (most recent call last)",
      "\u001b[0;32m<ipython-input-41-65be5c2aa103>\u001b[0m in \u001b[0;36m<module>\u001b[0;34m\u001b[0m\n\u001b[0;32m----> 1\u001b[0;31m \u001b[0mcat_list\u001b[0m \u001b[0;34m=\u001b[0m \u001b[0mpd\u001b[0m\u001b[0;34m.\u001b[0m\u001b[0mget_dummies\u001b[0m\u001b[0;34m(\u001b[0m\u001b[0mmodel_df\u001b[0m\u001b[0;34m[\u001b[0m\u001b[0;34m'pitch_type'\u001b[0m\u001b[0;34m]\u001b[0m\u001b[0;34m,\u001b[0m \u001b[0mprefix\u001b[0m\u001b[0;34m=\u001b[0m\u001b[0mvar\u001b[0m\u001b[0;34m)\u001b[0m\u001b[0;34m\u001b[0m\u001b[0;34m\u001b[0m\u001b[0m\n\u001b[0m\u001b[1;32m      2\u001b[0m \u001b[0mmodel_df\u001b[0m\u001b[0;34m=\u001b[0m\u001b[0mmodel_df\u001b[0m\u001b[0;34m.\u001b[0m\u001b[0mjoin\u001b[0m\u001b[0;34m(\u001b[0m\u001b[0mcat_list\u001b[0m\u001b[0;34m)\u001b[0m\u001b[0;34m\u001b[0m\u001b[0;34m\u001b[0m\u001b[0m\n\u001b[1;32m      3\u001b[0m \u001b[0;31m#data=data1\u001b[0m\u001b[0;34m\u001b[0m\u001b[0;34m\u001b[0m\u001b[0;34m\u001b[0m\u001b[0m\n",
      "\u001b[0;31mNameError\u001b[0m: name 'var' is not defined"
     ]
    }
   ],
   "source": [
    "cat_list = pd.get_dummies(model_df['pitch_type'], prefix=var)\n",
    "model_df=model_df.join(cat_list)\n",
    "#data=data1"
   ]
  },
  {
   "cell_type": "code",
   "execution_count": null,
   "metadata": {},
   "outputs": [],
   "source": []
  },
  {
   "cell_type": "code",
   "execution_count": null,
   "metadata": {},
   "outputs": [],
   "source": []
  }
 ],
 "metadata": {
  "kernelspec": {
   "display_name": "Python 3",
   "language": "python",
   "name": "python3"
  },
  "language_info": {
   "codemirror_mode": {
    "name": "ipython",
    "version": 3
   },
   "file_extension": ".py",
   "mimetype": "text/x-python",
   "name": "python",
   "nbconvert_exporter": "python",
   "pygments_lexer": "ipython3",
   "version": "3.7.3"
  }
 },
 "nbformat": 4,
 "nbformat_minor": 2
}
